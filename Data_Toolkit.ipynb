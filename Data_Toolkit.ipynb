{
  "nbformat": 4,
  "nbformat_minor": 0,
  "metadata": {
    "colab": {
      "provenance": []
    },
    "kernelspec": {
      "name": "python3",
      "display_name": "Python 3"
    },
    "language_info": {
      "name": "python"
    }
  },
  "cells": [
    {
      "cell_type": "markdown",
      "source": [
        "**Questions**"
      ],
      "metadata": {
        "id": "Jw-2m1jDKekQ"
      }
    },
    {
      "cell_type": "markdown",
      "source": [
        "**1. What is NumPy, and why is it widely used in Python?**"
      ],
      "metadata": {
        "id": "PQyH1Vw2Kj2e"
      }
    },
    {
      "cell_type": "markdown",
      "source": [
        "NumPy, short for \"Numerical Python,\" is a fundamental Python library used for numerical computing. Here's a breakdown of what it is and why it's so widely used:\n",
        "\n",
        "**NumPy?:**\n",
        "\n",
        "* **N-dimensional arrays:**\n",
        "    * At its core, NumPy provides support for large, multi-dimensional arrays (ndarrays). These arrays are highly efficient for storing and manipulating numerical data.\n",
        "* **Mathematical functions:**\n",
        "    * NumPy also offers a vast collection of mathematical functions that operate on these arrays, including:\n",
        "        * Linear algebra routines\n",
        "        * Fourier transforms\n",
        "        * Random number generation\n",
        "        * Statistical operations\n",
        "* **Performance:**\n",
        "    * NumPy is written in C, which makes it significantly faster than standard Python lists for numerical computations.\n",
        "\n",
        "**NumPy widely used?:**\n",
        "\n",
        "* **Efficiency:**\n",
        "    * NumPy's ndarrays are much more memory-efficient and faster than Python lists, especially when dealing with large datasets. This speed is crucial for scientific computing and data analysis.\n",
        "* **Foundation for other libraries:**\n",
        "    * Many other popular Python libraries, such as Pandas, SciPy, and scikit-learn, are built on top of NumPy. It serves as the foundation for the scientific Python ecosystem.\n",
        "* **Ease of use:**\n",
        "    * NumPy provides a simple and intuitive interface for performing complex numerical operations. Its syntax is often closer to mathematical notation, making it easier to work with.\n",
        "* **Data analysis and machine learning:**\n",
        "    * NumPy is essential for tasks like:\n",
        "        * Data manipulation and cleaning\n",
        "        * Statistical analysis\n",
        "        * Machine learning model development\n",
        "        * Essentially, any task that requires working with numerical data in python, will very likely utilize numpy.\n",
        "\n",
        "In summary, NumPy's efficiency, versatility, and foundational role in the Python scientific computing ecosystem make it an indispensable tool for data scientists, engineers, and researchers.\n"
      ],
      "metadata": {
        "id": "povODRQVKyWJ"
      }
    },
    {
      "cell_type": "markdown",
      "source": [
        "**2. How does broadcasting work in NumPy?**"
      ],
      "metadata": {
        "id": "HMx5OuVBLCAT"
      }
    },
    {
      "cell_type": "markdown",
      "source": [
        "NumPy's broadcasting is a powerful mechanism that allows NumPy to perform arithmetic operations on arrays with different shapes. Essentially, it \"stretches\" or \"replicates\" smaller arrays to match the shape of larger arrays, without actually copying the data. This makes it efficient for performing element-wise operations on arrays that don't have identical dimensions."
      ],
      "metadata": {
        "id": "TNWSUYLqLNn2"
      }
    },
    {
      "cell_type": "markdown",
      "source": [
        "**3. What is a Pandas DataFrame?**"
      ],
      "metadata": {
        "id": "KZt_Lcv6LPpv"
      }
    },
    {
      "cell_type": "markdown",
      "source": [
        "In the world of Python data analysis, the Pandas DataFrame is a cornerstone. Here's a breakdown of what it is:\n",
        "\n",
        "**Essentially, a Pandas DataFrame is:**\n",
        "\n",
        "* **A 2D Table:**\n",
        "    * Think of it like a spreadsheet or a SQL table. It organizes data into rows and columns.\n",
        "* **Labeled Axes:**\n",
        "    * Both the rows and columns have labels (indexes), making it easy to access and manipulate specific data points.\n",
        "* **Heterogeneous Data:**\n",
        "    * Unlike NumPy arrays, which typically store data of a single type, DataFrames can hold columns with different data types (e.g., numbers, strings, dates).\n",
        "\n",
        "**Key characteristics and purposes:**\n",
        "\n",
        "* **Data Manipulation:**\n",
        "    * Pandas DataFrames provide powerful tools for cleaning, transforming, and analyzing data.\n",
        "* **Data Analysis:**\n",
        "    * They facilitate tasks like statistical analysis, data aggregation, and data visualization.\n",
        "* **Versatile Data Input:**\n",
        "    * DataFrames can be created from various sources, including:\n",
        "        * CSV files\n",
        "        * Excel spreadsheets\n",
        "        * SQL databases\n",
        "        * Python dictionaries and lists\n",
        "        * NumPy arrays.\n",
        "* **Indexing:**\n",
        "    * The index of a Dataframe is a very powerful tool that allows for fast retrival of data.\n",
        "\n"
      ],
      "metadata": {
        "id": "nD9uEBE8Lb-z"
      }
    },
    {
      "cell_type": "markdown",
      "source": [
        "**4. Explain the use of the groupby() methods in Pandas.**"
      ],
      "metadata": {
        "id": "6q-C0RxzLfFm"
      }
    },
    {
      "cell_type": "markdown",
      "source": [
        "The groupby() method in Pandas is a powerful tool for data analysis, allowing you to split data into groups based on one or more columns and then apply a function to each group. Here's a breakdown of its use:\n",
        "\n",
        "Core Functionality:\n",
        "\n",
        "Split-Apply-Combine:\n",
        "groupby() implements the \"split-apply-combine\" strategy:\n",
        "Split: The DataFrame is divided into groups based on the values in the specified column(s).\n",
        "Apply: A function is applied to each group independently.\n",
        "Combine: The results from each group are combined into a new DataFrame.\n",
        "Aggregation:\n",
        "Commonly used for aggregating data within groups (e.g., calculating sums, means, counts).\n",
        "Transformation:\n",
        "Can also be used for transforming data within groups (e.g., standardizing values).\n",
        "Filtering:\n",
        "It is possible to filter groups based on certain criteria.\n",
        "How it works:\n",
        "\n",
        "Grouping:\n",
        "You specify the column(s) to group by. Pandas creates groups based on the unique values in those columns.\n",
        "Aggregation/Transformation/Filtering:\n",
        "You then apply a function to each group. This could be:\n",
        "Aggregation functions: sum(), mean(), count(), min(), max(), median(), etc.\n",
        "Custom functions: You can define your own functions to apply to each group.\n",
        "Transformation functions: transform the data based on the group.\n",
        "Filtering functions: filters the groups based on a criteria.\n",
        "Result:\n",
        "Pandas combines the results from each group into a new DataFrame."
      ],
      "metadata": {
        "id": "_mN7iDatLvuo"
      }
    },
    {
      "cell_type": "markdown",
      "source": [
        "**5. Why is Seaborn preferred for statistical visualisation?**"
      ],
      "metadata": {
        "id": "rnVjydCdLxYT"
      }
    },
    {
      "cell_type": "markdown",
      "source": [
        "Seaborn is a popular Python library for statistical data visualization, built on top of Matplotlib. It's preferred for several key reasons:\n",
        "\n",
        "**1. High-Level Interface and Aesthetic Defaults:**\n",
        "\n",
        "* **Simplicity:** Seaborn provides a high-level interface, meaning you can create complex statistical plots with concise code.\n",
        "* **Aesthetics:** It comes with attractive default styles and color palettes, making your plots visually appealing with minimal effort. Seaborn's default themes are generally considered more modern and polished than Matplotlib's.\n",
        "* **Focus on Statistical Analysis:** Seaborn is designed specifically for statistical visualization, so it handles many common statistical plotting tasks automatically.\n",
        "\n",
        "**2. Statistical Plotting Capabilities:**\n",
        "\n",
        "* **Built-in Statistical Functions:** Seaborn integrates with Pandas DataFrames and NumPy arrays, and it includes built-in statistical functions for tasks like:\n",
        "    * Estimating and plotting linear regression models (`regplot`, `lmplot`)\n",
        "    * Visualizing distributions (`distplot`, `kdeplot`, `boxplot`, `violinplot`)\n",
        "    * Exploring relationships between variables (`pairplot`, `heatmap`)\n",
        "    * Visualizing categorical data (`countplot`, `barplot`, `stripplot`, `swarmplot`)\n",
        "* **Categorical Data Visualization:** Seaborn excels at visualizing categorical data, which is crucial for many statistical analyses. It offers various plot types that effectively show relationships between categorical and numerical variables.\n",
        "* **Complex Visualizations:** Seaborn simplifies the creation of complex visualizations, such as heatmaps and pair plots, which are essential for exploring relationships in multi-dimensional datasets.\n",
        "\n",
        "**3. Integration with Pandas:**\n",
        "\n",
        "* **Seamless Data Handling:** Seaborn works seamlessly with Pandas DataFrames, making it easy to plot data directly from your data analysis workflows.\n",
        "* **Data-Aware Plots:** Seaborn's plots are \"data-aware,\" meaning they can automatically handle data transformations and statistical calculations.\n",
        "\n",
        "**4. Enhanced Matplotlib:**\n",
        "\n",
        "* **Extends Matplotlib:** Seaborn is built on top of Matplotlib, so you can still use Matplotlib's features and customization options when needed. This gives you the flexibility to create highly customized plots.\n",
        "* **Simplified Matplotlib Interactions:** Seaborn helps simplify many of the more complex aspects of Matplotlib.\n",
        "\n",
        "**In summary:**\n",
        "\n",
        "Seaborn is preferred for statistical visualization due to its:\n",
        "\n",
        "* Ease of use and aesthetically pleasing defaults.\n",
        "* Specialized statistical plotting capabilities.\n",
        "* Seamless integration with Pandas.\n",
        "* It simplifies many complex visualization tasks, making it a powerful tool for data exploration and analysis.\n"
      ],
      "metadata": {
        "id": "NUeFiJz6MDek"
      }
    },
    {
      "cell_type": "markdown",
      "source": [
        "**6. What are the differences between NumPy arrays and Python lists?**"
      ],
      "metadata": {
        "id": "A8ftTorVMEoT"
      }
    },
    {
      "cell_type": "markdown",
      "source": [
        "When comparing NumPy arrays and Python lists, it's essential to understand their distinct purposes and characteristics. Here's a breakdown of the key differences:\n",
        "\n",
        "**1. Data Type:**\n",
        "\n",
        "* **Python Lists:**\n",
        "    * Lists are highly flexible and can hold elements of various data types within the same list (heterogeneous). For example, you can have a list containing integers, strings, and floats.\n",
        "* **NumPy Arrays:**\n",
        "    * NumPy arrays, on the other hand, are designed to hold elements of the same data type (homogeneous). This homogeneity is crucial for efficient numerical computations.\n",
        "\n",
        "**2. Performance:**\n",
        "\n",
        "* **Python Lists:**\n",
        "    * Lists are less efficient for numerical operations, especially with large datasets. Python's dynamic typing and the way lists are stored in memory contribute to this.\n",
        "* **NumPy Arrays:**\n",
        "    * NumPy arrays are significantly faster for numerical computations. They are implemented in C, which allows for optimized performance. Additionally, the homogeneous nature of NumPy arrays allows for efficient memory storage and vectorized operations.\n",
        "\n",
        "**3. Memory Efficiency:**\n",
        "\n",
        "* **Python Lists:**\n",
        "    * Lists consume more memory due to the overhead of storing data type information for each element.\n",
        "* **NumPy Arrays:**\n",
        "    * NumPy arrays are more memory-efficient because they store elements of the same data type contiguously in memory.\n",
        "\n",
        "**4. Functionality:**\n",
        "\n",
        "* **Python Lists:**\n",
        "    * Lists are versatile for general-purpose data storage and manipulation. They offer methods for appending, inserting, removing, and sorting elements.\n",
        "* **NumPy Arrays:**\n",
        "    * NumPy arrays provide a wide range of functions for numerical operations, including element-wise arithmetic, linear algebra, and statistical calculations. They support vectorized operations, which allow you to perform operations on entire arrays at once.\n",
        "\n",
        "**5. Use Cases:**\n",
        "\n",
        "* **Python Lists:**\n",
        "    * Lists are suitable for general-purpose programming, storing collections of mixed data, and tasks that don't require heavy numerical computations.\n",
        "* **NumPy Arrays:**\n",
        "    * NumPy arrays are essential for scientific computing, data analysis, machine learning, and any application that involves numerical data and requires high performance.\n",
        "\n",
        "**In summary:**\n",
        "\n",
        "* Python lists are flexible and versatile, while NumPy arrays are optimized for numerical computations.\n",
        "* NumPy arrays excel in performance and memory efficiency when dealing with large numerical datasets.\n"
      ],
      "metadata": {
        "id": "Q691nmR4MWKs"
      }
    },
    {
      "cell_type": "markdown",
      "source": [
        "**7. What is a heatmap, and when should it be used?**"
      ],
      "metadata": {
        "id": "v-95b66VMZDN"
      }
    },
    {
      "cell_type": "markdown",
      "source": [
        "A heatmap is a graphical representation of data where values are depicted by color. Essentially, it's a way to visualize data in a two-dimensional format, where the magnitude of a phenomenon is shown with varying shades of color."
      ],
      "metadata": {
        "id": "R9TBc27dMox7"
      }
    },
    {
      "cell_type": "markdown",
      "source": [
        "**8. What does the term \"Vectorized operation\" mean in NumPy?**"
      ],
      "metadata": {
        "id": "wq0fx8QUMp37"
      }
    },
    {
      "cell_type": "markdown",
      "source": [
        "In NumPy, a \"vectorized operation\" refers to performing an operation on entire arrays or array slices at once, rather than iterating through individual elements using explicit loops. This is a fundamental concept that contributes to NumPy's efficiency and speed."
      ],
      "metadata": {
        "id": "iFpXv5b6M3rx"
      }
    },
    {
      "cell_type": "markdown",
      "source": [
        "**9. How does Matplotlib differ from Plotly?**"
      ],
      "metadata": {
        "id": "WmJrBi33M4sA"
      }
    },
    {
      "cell_type": "markdown",
      "source": [
        "Matplotlib and Plotly are both powerful Python libraries for data visualization, but they have distinct strengths and use cases. Here's a breakdown of their key differences:\n",
        "\n",
        "**Matplotlib:**\n",
        "\n",
        "* **Focus:**\n",
        "    * Primarily designed for creating static, publication-quality plots.\n",
        "    * Offers a high degree of control and customization over every element of a plot.\n",
        "* **Interactivity:**\n",
        "    * Generally produces static images. Interactivity can be added, but it requires extra effort.\n",
        "* **Customization:**\n",
        "    * Extremely flexible and customizable, allowing for fine-grained control over plot appearance.\n",
        "* **Use Cases:**\n",
        "    * Ideal for creating plots for academic papers, reports, and situations where precise control over the final image is essential.\n",
        "    * Well-suited for simple, straightforward visualizations.\n",
        "* **Learning Curve:**\n",
        "    * Can have a steeper learning curve, especially for complex visualizations.\n",
        "\n",
        "**Plotly:**\n",
        "\n",
        "* **Focus:**\n",
        "    * Primarily designed for creating interactive, web-based visualizations.\n",
        "    * Emphasizes interactivity and user engagement.\n",
        "* **Interactivity:**\n",
        "    * Produces interactive plots by default, with features like zooming, panning, hovering, and tooltips.\n",
        "* **Customization:**\n",
        "    * Offers a good level of customization, although it may not be as granular as Matplotlib.\n",
        "* **Use Cases:**\n",
        "    * Ideal for creating dashboards, web applications, and interactive data explorations.\n",
        "    * Excellent for presenting data to non-technical audiences.\n",
        "* **Learning Curve:**\n",
        "    * Plotly Express, in particular, offers a very user-friendly interface, making it relatively easy to create interactive plots quickly.\n",
        "\n",
        "**Key Differences Summarized:**\n",
        "\n",
        "* **Interactivity:**\n",
        "    * Plotly: Interactive by default.\n",
        "    * Matplotlib: Primarily static.\n",
        "* **Web-based visualizations:**\n",
        "    * Plotly: Strong focus on web-based output.\n",
        "    * Matplotlib: Less emphasis on web-based visualizations.\n",
        "* **Customization level:**\n",
        "    * Matplotlib: Offers more granular control.\n",
        "    * Plotly: offers plenty of customization, but not to the same degree as matplotlib.\n",
        "* **Ease of use:**\n",
        "    * Plotly express is very easy to use for creating interactive plots.\n",
        "    * Matplotlib can require more code, especially for complex plots.\n",
        "\n",
        "In essence, Matplotlib is a powerful tool for creating highly customized static plots, while Plotly excels at creating engaging, interactive visualizations for web-based applications and dashboards.\n"
      ],
      "metadata": {
        "id": "EN_SdgV6NKec"
      }
    },
    {
      "cell_type": "markdown",
      "source": [
        "**10. What is the significance of hierarchical indexing in Pandas?**"
      ],
      "metadata": {
        "id": "Om2vApypNMyg"
      }
    },
    {
      "cell_type": "markdown",
      "source": [
        "Hierarchical indexing, also known as MultiIndex, is a powerful feature in Pandas that allows you to have multiple index levels on either the rows or columns of a DataFrame.\n",
        "\n",
        " This significantly enhances the ability to represent and manipulate complex, multi-dimensional data within a two-dimensional structure."
      ],
      "metadata": {
        "id": "8dIfQdAbNdv_"
      }
    },
    {
      "cell_type": "markdown",
      "source": [
        "**11. What is the role of Seaborn's Pairplot() function?**"
      ],
      "metadata": {
        "id": "UxGVKRR_Ne3i"
      }
    },
    {
      "cell_type": "markdown",
      "source": [
        "Seaborn's pairplot() function is a powerful tool for visualizing pairwise relationships between multiple variables in a dataset. It's particularly useful for exploratory data analysis (EDA) and gaining insights into the distributions and correlations of your data."
      ],
      "metadata": {
        "id": "jRWRGTk3Ns1L"
      }
    },
    {
      "cell_type": "markdown",
      "source": [
        "**12. What is the purpose of the describe() function in Pandas?**"
      ],
      "metadata": {
        "id": "s5XmIV6jNt6d"
      }
    },
    {
      "cell_type": "markdown",
      "source": [
        "The describe() function in Pandas is a powerful tool for quickly summarizing the statistical properties of a DataFrame or Series. Its primary purpose is to provide a concise overview of the central tendency, dispersion, and shape of the data's distribution."
      ],
      "metadata": {
        "id": "6ZImSkR0N6Xk"
      }
    },
    {
      "cell_type": "markdown",
      "source": [
        "**13. Why is handling missing data important in Pandas?**"
      ],
      "metadata": {
        "id": "1Gfy8KvjN7ao"
      }
    },
    {
      "cell_type": "markdown",
      "source": [
        "Handling missing data is crucial in Pandas because real-world datasets are rarely perfect. Ignoring or mishandling missing data can lead to several problems, affecting the accuracy and reliability of your analysis."
      ],
      "metadata": {
        "id": "ngCihnL9OIll"
      }
    },
    {
      "cell_type": "markdown",
      "source": [
        "**14. What are the benefits of using Plotly for data visualisation?**"
      ],
      "metadata": {
        "id": "wO6zDh-eOJhk"
      }
    },
    {
      "cell_type": "markdown",
      "source": [
        "Plotly offers a range of benefits for data visualization, making it a powerful tool for creating interactive and engaging charts. Here's a breakdown of its key advantages:\n",
        "\n",
        "**1. Interactivity:**\n",
        "\n",
        "* **Dynamic Visualizations:** Plotly's core strength lies in its ability to create interactive plots. Users can zoom, pan, hover, and explore data points, gaining a deeper understanding of the underlying patterns.\n",
        "* **Tooltips:** Hovering over data points reveals detailed information through tooltips, providing context and insights.\n",
        "* **Drill-down Capabilities:** Interactive features allow users to drill down into specific data points or subsets, enabling more granular analysis.\n",
        "\n",
        "**2. Web-Based Visualizations:**\n",
        "\n",
        "* **Web-Friendly Output:** Plotly generates interactive visualizations that can be easily embedded in web pages, dashboards, and web applications.\n",
        "* **Sharing and Collaboration:** Interactive plots can be easily shared online, facilitating collaboration and communication.\n",
        "\n",
        "**3. Versatility and Variety of Plot Types:**\n",
        "\n",
        "* **Comprehensive Plot Library:** Plotly supports a wide range of plot types, including scatter plots, line charts, bar charts, histograms, heatmaps, 3D plots, and geographical maps.\n",
        "* **Customization Options:** Plotly offers extensive customization options, allowing you to tailor the appearance and behavior of your plots.\n",
        "\n",
        "**4. Plotly Express:**\n",
        "\n",
        "* **Simplified Syntax:** Plotly Express provides a high-level, easy-to-use interface for creating interactive plots with minimal code.\n",
        "* **Rapid Prototyping:** It's ideal for quickly creating visualizations during exploratory data analysis.\n",
        "\n",
        "**5. Integration with Python and Other Languages:**\n",
        "\n",
        "* **Seamless Python Integration:** Plotly integrates seamlessly with Python, making it easy to create interactive plots from Pandas DataFrames and NumPy arrays.\n",
        "* **Support for Other Languages:** Plotly also supports other programming languages, such as R, JavaScript, and Julia.\n",
        "\n",
        "**6. Dash for Interactive Dashboards:**\n",
        "\n",
        "* **Dashboard Creation:** Plotly Dash allows you to create interactive dashboards and web applications, enabling users to explore and interact with data in a dynamic environment.\n",
        "\n",
        "**7. Presentation and Storytelling:**\n",
        "\n",
        "* **Engaging Visuals:** Interactive plots can enhance presentations and storytelling, making data more engaging and accessible to audiences.\n",
        "* **Animated Visualizations:** Plotly supports animated visualizations, which can be used to show changes over time or highlight key trends.\n",
        "\n",
        "**In summary:**\n",
        "\n",
        "Plotly is a valuable tool for creating interactive and web-friendly visualizations that enhance data exploration, communication, and storytelling. Its versatility, ease of use (especially with Plotly Express), and integration with Python make it a popular choice for data scientists, analysts, and developers.\n"
      ],
      "metadata": {
        "id": "8OFHvpCQOY7P"
      }
    },
    {
      "cell_type": "markdown",
      "source": [
        "**15. How does NumPy handle multidimensional arrays.**"
      ],
      "metadata": {
        "id": "oPMSPWA7Oa-P"
      }
    },
    {
      "cell_type": "markdown",
      "source": [
        "NumPy's core strength lies in its efficient handling of multidimensional arrays (ndarrays). Here's a breakdown of how it achieves this:\n",
        "\n",
        "**1. Contiguous Memory Allocation:**\n",
        "\n",
        "* NumPy stores array elements in a contiguous block of memory. This is a crucial difference from Python lists, which store elements as separate objects scattered throughout memory.\n",
        "* Contiguous memory allocation allows for:\n",
        "    * Faster access to elements.\n",
        "    * Efficient vectorized operations.\n",
        "    * Reduced memory overhead.\n",
        "\n",
        "**2. Shape and Strides:**\n",
        "\n",
        "* **Shape:**\n",
        "    * A NumPy array's `shape` attribute defines the dimensions of the array. For example, a 2D array might have a shape of (rows, columns).\n",
        "* **Strides:**\n",
        "    * The `strides` attribute defines the number of bytes to jump in memory to move to the next element along each dimension. This allows NumPy to efficiently access elements without needing to copy or rearrange data.\n",
        "    * Essentially, strides tell numpy how many bytes to jump in memory to find the next element in each dimension.\n",
        "* Shape and strides work together to allow numpy to view the same data in different ways, without needing to copy the data.\n",
        "\n",
        "**3. Optimized C Implementation:**\n",
        "\n",
        "* NumPy's core functionality is implemented in C, which provides significant performance advantages over pure Python code.\n",
        "* This low-level implementation allows for:\n",
        "    * Efficient memory management.\n",
        "    * Optimized numerical computations.\n",
        "    * Vectorized operations.\n",
        "\n",
        "**4. Indexing and Slicing:**\n",
        "\n",
        "* NumPy provides powerful indexing and slicing capabilities that allow you to access and manipulate subsets of multidimensional arrays.\n",
        "* These operations are highly optimized and efficient, thanks to the contiguous memory layout and stride information.\n",
        "\n",
        "**5. Broadcasting:**\n",
        "\n",
        "* As discussed previously, broadcasting allows NumPy to perform operations on arrays with different shapes without explicitly copying data.\n",
        "* This mechanism is essential for efficient numerical computations on multidimensional arrays.\n",
        "\n",
        "**Example:**\n",
        "\n",
        "```python\n",
        "import numpy as np\n",
        "\n",
        "# Create a 2D array\n",
        "arr = np.array([[1, 2, 3], [4, 5, 6]])\n",
        "\n",
        "# Shape and strides\n",
        "print(arr.shape)  # Output: (2, 3)\n",
        "print(arr.strides) # output: (24, 8)\n",
        "\n",
        "# Indexing and slicing\n",
        "print(arr[0, 1])  # Output: 2\n",
        "print(arr[:, 1])  # Output: [2 5]\n",
        "```\n",
        "\n",
        "**In essence:**\n",
        "\n",
        "NumPy's efficient handling of multidimensional arrays is achieved through contiguous memory allocation, shape and stride information, optimized C implementation, and powerful indexing and slicing capabilities. This makes it a fundamental tool for numerical computing in Python.\n"
      ],
      "metadata": {
        "id": "Vd23xzCFOppj"
      }
    },
    {
      "cell_type": "markdown",
      "source": [
        "**16. What is the role of Bokeh in data visualization?**"
      ],
      "metadata": {
        "id": "kI2gcJ9BOsAL"
      }
    },
    {
      "cell_type": "markdown",
      "source": [
        "Bokeh is a Python library that focuses on creating interactive visualizations for web browsers. Its primary role is to bridge the gap between static data visualizations and dynamic, interactive ones, particularly for large or streaming datasets. Here's a breakdown of its key roles:\n",
        "\n",
        "**1. Interactive Data Visualization:**\n",
        "\n",
        "* Bokeh excels at creating interactive plots, dashboards, and applications that can be viewed and explored in web browsers.\n",
        "* It allows users to zoom, pan, select data points, and interact with visualizations in real-time.\n",
        "* This interactivity is crucial for exploring complex datasets and uncovering hidden patterns.\n",
        "\n",
        "**2. Web-Based Output:**\n",
        "\n",
        "* Bokeh generates HTML, JavaScript, and CSS output, which can be easily embedded in web pages or dashboards.\n",
        "* This makes it ideal for creating visualizations that can be shared and viewed online.\n",
        "\n",
        "**3. Handling Large and Streaming Datasets:**\n",
        "\n",
        "* Bokeh is designed to handle large and streaming datasets efficiently.\n",
        "* It can render visualizations with thousands or even millions of data points, maintaining smooth interactivity.\n",
        "\n",
        "**4. Flexibility and Customization:**\n",
        "\n",
        "* Bokeh provides a high degree of flexibility and customization, allowing you to create a wide range of plot types and styles.\n",
        "* It supports various data sources, including Pandas DataFrames, NumPy arrays, and custom data structures.\n",
        "\n",
        "**5. Integration with Python Ecosystem:**\n",
        "\n",
        "* Bokeh integrates seamlessly with other Python libraries, such as Pandas and NumPy.\n",
        "* This allows you to create interactive visualizations directly from your data analysis workflows.\n",
        "\n",
        "**6. Applications and Dashboards:**\n",
        "\n",
        "* Bokeh can be used to create interactive applications and dashboards, enabling users to explore and analyze data in a dynamic environment.\n",
        "\n",
        "**Key Features:**\n",
        "\n",
        "* **Browser-based interactivity:** Creates visualizations that can be viewed and manipulated in web browsers.\n",
        "* **Large dataset support:** Handles large and streaming datasets efficiently.\n",
        "* **Declarative syntax:** Provides a declarative syntax for creating visualizations, making it easier to define complex plots.\n",
        "* **Variety of plot types:** Supports a wide range of plot types, including scatter plots, line charts, bar charts, maps, and more.\n",
        "* **Custom JavaScript extensions:** Allows you to create custom JavaScript extensions for advanced interactivity.\n",
        "\n",
        "**In essence:**\n",
        "\n",
        "Bokeh's role is to empower data scientists and developers to create interactive, web-based visualizations that facilitate data exploration, communication, and analysis. It's particularly useful for applications where interactivity and web-based output are crucial.\n"
      ],
      "metadata": {
        "id": "dWcvVqr3O5LE"
      }
    },
    {
      "cell_type": "markdown",
      "source": [
        "**17. Explain the difference between apply() and map() in Pandas.**"
      ],
      "metadata": {
        "id": "_AZEtck8O6Vi"
      }
    },
    {
      "cell_type": "markdown",
      "source": [
        "In Pandas, both `apply()` and `map()` are used to apply functions to data, but they operate at different levels and have distinct use cases. Here's a breakdown of their differences:\n",
        "\n",
        "**1. Level of Operation:**\n",
        "\n",
        "* **`map()`:**\n",
        "    * Operates element-wise on a Pandas Series.\n",
        "    * It's designed for simple, element-wise transformations.\n",
        "* **`apply()`:**\n",
        "    * Can operate on either a Pandas Series or a DataFrame.\n",
        "    * When applied to a Series, it can perform element-wise operations, similar to `map()`, but it's more flexible.\n",
        "    * When applied to a DataFrame, it can operate row-wise or column-wise.\n",
        "    * It's more versatile and can handle complex operations.\n",
        "\n",
        "**2. Function Application:**\n",
        "\n",
        "* **`map()`:**\n",
        "    * Expects a function that takes a single value as input and returns a single value.\n",
        "    * Often used with dictionaries for value substitution or simple functions.\n",
        "* **`apply()`:**\n",
        "    * Can accept functions that operate on entire rows or columns of a DataFrame, or individual elements of a Series.\n",
        "    * It's more flexible and can handle functions that return Series or DataFrames.\n",
        "\n",
        "**3. Use Cases:**\n",
        "\n",
        "* **`map()`:**\n",
        "    * Simple element-wise transformations.\n",
        "    * Value substitution using dictionaries.\n",
        "    * Applying simple functions to each element of a Series.\n",
        "* **`apply()`:**\n",
        "    * Complex transformations that require access to multiple columns or rows.\n",
        "    * Applying functions that return Series or DataFrames.\n",
        "    * Performing aggregations or calculations across rows or columns.\n",
        "\n",
        "**4. Return Values:**\n",
        "\n",
        "* **`map()`:**\n",
        "    * Returns a Series with the same index as the original Series.\n",
        "* **`apply()`:**\n",
        "    * Returns a Series or DataFrame, depending on the function and the level of operation.\n",
        "\n",
        "**Example:**\n",
        "\n",
        "```python\n",
        "import pandas as pd\n",
        "\n",
        "data = {'A': [1, 2, 3, 4],\n",
        "        'B': ['apple', 'banana', 'orange', 'grape']}\n",
        "\n",
        "df = pd.DataFrame(data)\n",
        "\n",
        "# map() example (Series)\n",
        "df['A_squared'] = df['A'].map(lambda x: x**2)\n",
        "print(df)\n",
        "\n",
        "# apply() example (Series)\n",
        "df['A_cubed'] = df['A'].apply(lambda x: x**3)\n",
        "print(df)\n",
        "\n",
        "# apply() example (DataFrame, column-wise)\n",
        "df['A_plus_10'] = df['A'].apply(lambda x: x + 10)\n",
        "print(df)\n",
        "\n",
        "# apply() example (DataFrame, row-wise)\n",
        "df['combined'] = df.apply(lambda row: f\"{row['A']}-{row['B']}\", axis=1)\n",
        "print(df)\n",
        "```\n",
        "\n",
        "**In summary:**\n",
        "\n",
        "* Use `map()` for simple, element-wise transformations on a Series.\n",
        "* Use `apply()` for more complex transformations, including those that require access to multiple columns or rows, or when operating on DataFrames. `apply()` is more general purpose than map.\n"
      ],
      "metadata": {
        "id": "pPD8xZk7PIpP"
      }
    },
    {
      "cell_type": "markdown",
      "source": [
        "**18. What are some advanced features of NumPy?**"
      ],
      "metadata": {
        "id": "tVwGAYKkPJv-"
      }
    },
    {
      "cell_type": "markdown",
      "source": [
        "NumPy offers a wealth of advanced features that go beyond basic array manipulation. Here are some of the key advanced capabilities:\n",
        "\n",
        "**1. Advanced Indexing and Slicing:**\n",
        "\n",
        "* **Boolean Indexing:** Selecting elements based on a boolean mask. This allows for powerful conditional selection.\n",
        "* **Integer Array Indexing:** Selecting elements using integer arrays, enabling flexible and non-sequential access.\n",
        "* **Fancy Indexing:** Combining boolean and integer array indexing for complex selection patterns.\n",
        "\n",
        "**2. Broadcasting Rules and Ufuncs:**\n",
        "\n",
        "* **Broadcasting:** As discussed previously, this allows operations on arrays with different shapes.\n",
        "* **Universal Functions (Ufuncs):** NumPy provides a large set of ufuncs that perform element-wise operations efficiently. These include mathematical, trigonometric, bitwise, and comparison functions.\n",
        "\n",
        "**3. Linear Algebra and Matrix Operations:**\n",
        "\n",
        "* **`numpy.linalg`:** This module provides a wide range of linear algebra functions, including matrix inversion, eigenvalue decomposition, and solving linear systems.\n",
        "* **Matrix Multiplication:** NumPy supports efficient matrix multiplication using the `@` operator or `numpy.dot()`.\n",
        "* **Matrix Transpose and Reshaping:** Functions like `numpy.transpose()` and `numpy.reshape()` enable flexible matrix manipulation.\n",
        "\n",
        "**4. Fourier Transforms:**\n",
        "\n",
        "* **`numpy.fft`:** This module provides functions for performing Fast Fourier Transforms (FFTs) and inverse FFTs, which are essential for signal processing and frequency analysis.\n",
        "\n",
        "**5. Random Number Generation:**\n",
        "\n",
        "* **`numpy.random`:** This module provides a variety of random number generation functions, including generating random samples from various distributions.\n",
        "* **Random Seed Control:** NumPy allows you to set the random seed for reproducible results.\n",
        "\n",
        "**6. Structured Arrays and Record Arrays:**\n",
        "\n",
        "* **Structured Arrays:** Arrays that can hold elements with different data types, similar to records or structs in C.\n",
        "* **Record Arrays:** Structured arrays with field names that can be accessed as attributes.\n",
        "\n",
        "**7. Memory Mapping:**\n",
        "\n",
        "* **`numpy.memmap`:** Allows you to create arrays that are mapped to files on disk, enabling efficient handling of large datasets that don't fit into memory.\n",
        "\n",
        "**8. C/Fortran Integration:**\n",
        "\n",
        "* NumPy's C API allows you to integrate NumPy arrays with C and Fortran code, enabling high-performance computations.\n",
        "* `f2py` tool allows for python to fortran interoperation.\n",
        "\n",
        "**9. Array Creation and Manipulation Routines:**\n",
        "\n",
        "* There are numerous functions for creating arrays with specific patterns (`numpy.linspace()`, `numpy.meshgrid()`, etc).\n",
        "* Functions for array concatenation (`numpy.concatenate()`), splitting (`numpy.split()`), and stacking (`numpy.stack()`).\n",
        "\n",
        "**10. Iterators:**\n",
        "\n",
        "* `numpy.nditer` allows for very flexible iteration over numpy arrays.\n",
        "\n",
        "These advanced features make NumPy a powerful tool for a wide range of scientific and numerical computing tasks.\n"
      ],
      "metadata": {
        "id": "USld9mvfPVxZ"
      }
    },
    {
      "cell_type": "markdown",
      "source": [
        "**19. How does Pandas simplify time series analysis?**"
      ],
      "metadata": {
        "id": "wZ9cC5bGPWwu"
      }
    },
    {
      "cell_type": "markdown",
      "source": [
        "Pandas significantly simplifies time series analysis in Python by providing powerful data structures and functions specifically designed for handling time-indexed data. Here's how it streamlines the process:\n",
        "\n",
        "**1. Dedicated Time Series Data Structures:**\n",
        "\n",
        "* **DatetimeIndex:** Pandas introduces the `DatetimeIndex`, a specialized index for handling datetime objects. This index provides efficient time-based indexing and slicing.\n",
        "* **Timestamp:** Represents a single point in time.\n",
        "* **Period:** Represents a fixed-frequency time span (e.g., a day, a month, a year).\n",
        "* **TimeSeries:** A Pandas Series with a `DatetimeIndex`.\n",
        "* These structures allow for easy manipulation and analysis of time-based data.\n",
        "\n",
        "**2. Time-Based Indexing and Slicing:**\n",
        "\n",
        "* Pandas simplifies selecting and slicing time series data using intuitive syntax. For example, you can easily select data within a specific date range or at a particular time.\n",
        "* It allows for partial string indexing, for example `df['2023-01']` to access all of January 2023.\n",
        "\n",
        "**3. Resampling:**\n",
        "\n",
        "* The `resample()` function allows you to change the frequency of your time series data. You can upsample (increase frequency) or downsample (decrease frequency) your data with ease.\n",
        "* Pandas handles the aggregation of data during resampling, such as calculating the mean, sum, or other statistics for each time period.\n",
        "\n",
        "**4. Time Zone Handling:**\n",
        "\n",
        "* Pandas provides robust support for time zone handling, allowing you to work with time series data from different time zones.\n",
        "* It simplifies time zone conversions and calculations.\n",
        "\n",
        "**5. Date Range Generation:**\n",
        "\n",
        "* The `date_range()` and `period_range()` functions enable you to generate sequences of dates or periods, which are useful for creating time series indexes.\n",
        "\n",
        "**6. Time Series-Specific Functions:**\n",
        "\n",
        "* Pandas offers a variety of time series-specific functions, such as:\n",
        "    * **Shifting:** Shifting data forward or backward in time using the `shift()` function.\n",
        "    * **Rolling Window Calculations:** Calculating rolling statistics (e.g., moving averages) using the `rolling()` function.\n",
        "    * **Expanding Window Calculations:** Calculating expanding statistics using the `expanding()` function.\n",
        "    * **Time Deltas:** Performing operations on time differences.\n",
        "    * **Period and Timestamp arithmetic:** Adding or subtracting periods and timestamps.\n",
        "\n",
        "**7. Integration with Other Libraries:**\n",
        "\n",
        "* Pandas integrates seamlessly with other Python libraries for time series analysis, such as:\n",
        "    * **Statsmodels:** For statistical modeling and forecasting.\n",
        "    * **Scikit-learn:** For machine learning on time series data.\n",
        "    * **Matplotlib and Seaborn:** For visualizing time series data.\n",
        "\n",
        "**8. Handling Irregular Time Series:**\n",
        "\n",
        "* Pandas can handle time series data with irregular time intervals, making it suitable for real-world datasets.\n",
        "\n",
        "**Example:**\n",
        "\n",
        "```python\n",
        "import pandas as pd\n",
        "import numpy as np\n",
        "\n",
        "# Create a time series\n",
        "dates = pd.date_range('2023-01-01', periods=100, freq='D')\n",
        "ts = pd.Series(np.random.randn(100), index=dates)\n",
        "\n",
        "# Resample to weekly frequency\n",
        "weekly_ts = ts.resample('W').mean()\n",
        "\n",
        "# Rolling mean\n",
        "rolling_mean = ts.rolling(window=7).mean()\n",
        "```\n",
        "\n",
        "In essence, Pandas provides a comprehensive and efficient toolkit for time series analysis, simplifying data manipulation, analysis, and visualization.\n"
      ],
      "metadata": {
        "id": "i6k3dMzMPjfF"
      }
    },
    {
      "cell_type": "markdown",
      "source": [
        "**20. What is the role of a pivot table in Pandas?**"
      ],
      "metadata": {
        "id": "VZAAlaOwPk2w"
      }
    },
    {
      "cell_type": "markdown",
      "source": [
        "A pivot table in Pandas, created using the pivot_table() function, plays a crucial role in data analysis by summarizing and aggregating data in a flexible and insightful way. Here's a breakdown of its role:\n",
        "\n",
        "Core Functionality:\n",
        "\n",
        "Data Aggregation:\n",
        "Pivot tables allow you to aggregate data based on one or more categorical variables. This aggregation can involve calculating sums, means, counts, or other statistical measures.\n",
        "Data Reshaping:\n",
        "They reshape data from a long format (where data is stacked vertically) to a wide format (where data is spread horizontally).\n",
        "Data Summarization:\n",
        "They provide a concise and organized summary of large datasets, making it easier to identify patterns and trends.\n",
        "Cross-Tabulation:\n",
        "Pivot tables facilitate cross-tabulation, which involves analyzing the relationships between two or more categorical variables.\n",
        "Key Roles and Benefits:\n",
        "\n",
        "Simplified Data Analysis:\n",
        "Pivot tables simplify complex data analysis tasks by providing a structured and intuitive way to explore data.\n",
        "Insight Generation:\n",
        "They help uncover hidden patterns and relationships in data, leading to valuable insights.\n",
        "Data Visualization Preparation:\n",
        "The summarized data produced by pivot tables can be easily visualized using various plotting libraries.\n",
        "Report Generation:\n",
        "Pivot tables are useful for generating reports and summaries that can be easily understood by stakeholders.\n",
        "Data Exploration:\n",
        "They are a powerful tool when exploring data, and trying to find relationships between variables.\n",
        "How it Works:\n",
        "\n",
        "You specify the index, columns, and values parameters to define the structure of the pivot table.\n",
        "The index parameter determines the rows of the table.\n",
        "The columns parameter determines the columns of the table.\n",
        "The values parameter specifies the numerical data to be aggregated.\n",
        "The aggfunc parameter defines the aggregation function (e.g., sum, mean, count).\n",
        "Example:\n",
        "\n",
        "Python\n",
        "\n",
        "import pandas as pd\n",
        "import numpy as np\n",
        "\n",
        "data = {'Region': ['North', 'South', 'East', 'West', 'North', 'South', 'East', 'West'],\n",
        "        'Product': ['A', 'B', 'A', 'B', 'B', 'A', 'B', 'A'],\n",
        "        'Sales': [100, 150, 200, 120, 180, 220, 160, 250]}\n",
        "\n",
        "df = pd.DataFrame(data)\n",
        "\n",
        "# Create a pivot table\n",
        "pivot_table = pd.pivot_table(df, values='Sales', index='Region', columns='Product', aggfunc=np.mean)\n",
        "\n",
        "print(pivot_table)\n",
        "In this example, the pivot table shows the average sales for each product in each region.\n",
        "\n"
      ],
      "metadata": {
        "id": "wkUe6r7yQAp2"
      }
    },
    {
      "cell_type": "markdown",
      "source": [
        "**21. Why is NumPy's array slicing faster than Python's list slicing?**"
      ],
      "metadata": {
        "id": "zEDHAoGQQE1I"
      }
    },
    {
      "cell_type": "markdown",
      "source": [
        "NumPy's array slicing is significantly faster than Python's list slicing due to fundamental differences in how these data structures are stored and accessed in memory. Here's a breakdown:\n",
        "\n",
        "**1. Contiguous Memory Allocation:**\n",
        "\n",
        "* **NumPy Arrays:** NumPy arrays store their elements in a contiguous block of memory. This means that all elements are located next to each other in memory, allowing for direct and efficient access.\n",
        "* **Python Lists:** Python lists, on the other hand, store elements as separate objects scattered throughout memory. Each element in a list is a pointer to an object, which can be located anywhere in memory.\n",
        "\n",
        "**2. Strides and Views:**\n",
        "\n",
        "* **NumPy Arrays:** NumPy uses the concept of \"strides\" to efficiently access array elements. Strides define the number of bytes to jump in memory to move to the next element along each dimension. When you slice a NumPy array, you're essentially creating a \"view\" of the original data, where the new array shares the same underlying memory buffer. The slicing operation only changes the shape and strides, not the actual data. This makes slicing very fast, as it avoids copying large amounts of data.\n",
        "* **Python Lists:** When you slice a Python list, a new list object is created, and the elements from the original list are copied into the new list. This copying process can be time-consuming, especially for large lists.\n",
        "\n",
        "**3. Optimized C Implementation:**\n",
        "\n",
        "* **NumPy:** NumPy's core functionality is implemented in C, which provides significant performance advantages over pure Python code. C code is compiled to machine code, which executes much faster than interpreted Python code.\n",
        "* **Python Lists:** Python lists are implemented in Python, which is an interpreted language. This means that each list operation is executed by the Python interpreter, which adds overhead and slows down execution.\n",
        "\n",
        "**4. Vectorized Operations:**\n",
        "\n",
        "* **NumPy:** NumPy is designed for vectorized operations, which allow you to perform operations on entire arrays at once. Slicing is often used in conjunction with vectorized operations, which further enhances performance.\n",
        "* **Python Lists:** Python lists do not support vectorized operations. You have to iterate through the list elements using loops, which can be slow.\n",
        "\n",
        "**In summary:**\n",
        "\n",
        "NumPy's array slicing is faster because:\n",
        "\n",
        "* It operates on contiguous memory blocks.\n",
        "* It creates views instead of copying data.\n",
        "* It's implemented in optimized C code.\n",
        "* It is designed to work with vectorized operations.\n",
        "\n",
        "These factors make NumPy arrays significantly more efficient for numerical computations and data manipulation, especially when dealing with large datasets.\n"
      ],
      "metadata": {
        "id": "J-iFgBQEQa76"
      }
    },
    {
      "cell_type": "markdown",
      "source": [
        "**22. What are some common use cases for Seaborn?**"
      ],
      "metadata": {
        "id": "a8vsQCiOQck8"
      }
    },
    {
      "cell_type": "markdown",
      "source": [
        "Seaborn is widely used for statistical data visualization in various domains. Here are some common use cases:\n",
        "\n",
        "**1. Exploratory Data Analysis (EDA):**\n",
        "\n",
        "* **Relationship Visualization:**\n",
        "    * Exploring relationships between variables using `pairplot()`, `relplot()`, and `scatterplot()`.\n",
        "    * Identifying correlations and patterns in data.\n",
        "* **Distribution Visualization:**\n",
        "    * Visualizing the distribution of single variables using `distplot()`, `histplot()`, `kdeplot()`, `boxplot()`, and `violinplot()`.\n",
        "    * Understanding the shape and spread of data.\n",
        "* **Categorical Data Visualization:**\n",
        "    * Visualizing relationships between categorical and numerical variables using `countplot()`, `barplot()`, `stripplot()`, and `swarmplot()`.\n",
        "    * Comparing different categories.\n",
        "\n",
        "**2. Statistical Modeling and Analysis:**\n",
        "\n",
        "* **Regression Analysis:**\n",
        "    * Visualizing linear regression models using `regplot()` and `lmplot()`.\n",
        "    * Assessing the fit of regression models.\n",
        "* **Correlation Matrices:**\n",
        "    * Visualizing correlation matrices using `heatmap()`.\n",
        "    * Identifying highly correlated variables.\n",
        "\n",
        "**3. Data Visualization for Reports and Presentations:**\n",
        "\n",
        "* **Creating visually appealing and informative plots for reports and presentations.**\n",
        "* **Communicating statistical findings to a broader audience.**\n",
        "\n",
        "**4. Machine Learning:**\n",
        "\n",
        "* **Feature Analysis:**\n",
        "    * Visualizing the relationships between features and the target variable.\n",
        "    * Identifying important features.\n",
        "* **Model Evaluation:**\n",
        "    * Visualizing model performance metrics.\n",
        "    * Visualizing confusion matrices using heatmaps.\n",
        "\n",
        "**5. Time Series Analysis:**\n",
        "\n",
        "* Although not it's primary focus, Seaborn can be used in conjunction with Pandas to visualize time series data.\n",
        "* Visualizing trends and patterns over time.\n",
        "\n",
        "**6. Bioinformatics:**\n",
        "\n",
        "* **Gene Expression Data:**\n",
        "    * Visualizing gene expression data using heatmaps and cluster maps.\n",
        "    * Identifying gene clusters and patterns.\n",
        "\n",
        "**7. Social Science Research:**\n",
        "\n",
        "* **Survey Data Analysis:**\n",
        "    * Visualizing survey responses and demographic data.\n",
        "    * Comparing different groups.\n",
        "* **Social Network Analysis:**\n",
        "    * Visualizing network data.\n",
        "\n",
        "**8. Financial Analysis:**\n",
        "\n",
        "* **Correlation of financial assets:**\n",
        "    * Using heatmaps to display correlations between stocks, or other financial instruments.\n",
        "* **Distribution of financial data:**\n",
        "    * Visualizing the distribution of stock prices or other financial variables.\n",
        "\n",
        "In essence, Seaborn's ability to create statistically informative and visually appealing plots makes it a valuable tool for a wide range of data analysis and visualization tasks.\n"
      ],
      "metadata": {
        "id": "8yGtXYF_Qoti"
      }
    },
    {
      "cell_type": "markdown",
      "source": [
        "**Practical Questions**"
      ],
      "metadata": {
        "id": "pBze2zfdQpza"
      }
    },
    {
      "cell_type": "markdown",
      "source": [
        "**1. How do you create a 2D NumPy array and calculate the sum of each row?**"
      ],
      "metadata": {
        "id": "nHS14uU9Qs0J"
      }
    },
    {
      "cell_type": "code",
      "source": [
        "import numpy as np\n",
        "\n",
        "# 1. Create a 2D NumPy array\n",
        "my_array = np.array([[1, 2, 3],\n",
        "                     [4, 5, 6],\n",
        "                     [7, 8, 9]])\n",
        "\n",
        "print(\"Original array:\")\n",
        "print(my_array)\n",
        "\n",
        "# 2. Calculate the sum of each row\n",
        "row_sums = np.sum(my_array, axis=1) # axis=1 specifies row-wise summation\n",
        "\n",
        "print(\"\\nSum of each row:\")\n",
        "print(row_sums)"
      ],
      "metadata": {
        "colab": {
          "base_uri": "https://localhost:8080/"
        },
        "id": "ikUY8WpFRGPm",
        "outputId": "823bee11-97d0-41ba-cdd5-719e9d1abdc7"
      },
      "execution_count": 1,
      "outputs": [
        {
          "output_type": "stream",
          "name": "stdout",
          "text": [
            "Original array:\n",
            "[[1 2 3]\n",
            " [4 5 6]\n",
            " [7 8 9]]\n",
            "\n",
            "Sum of each row:\n",
            "[ 6 15 24]\n"
          ]
        }
      ]
    },
    {
      "cell_type": "markdown",
      "source": [
        "**2. Write a Pandas script to find the mean of a specific column in a DataFrame.**"
      ],
      "metadata": {
        "id": "wYeDwF6rRLZh"
      }
    },
    {
      "cell_type": "code",
      "source": [
        "import pandas as pd\n",
        "\n",
        "def calculate_column_mean(df, column_name):\n",
        "  \"\"\"\n",
        "  Calculates the mean of a specified column in a Pandas DataFrame.\n",
        "\n",
        "  Args:\n",
        "    df: The Pandas DataFrame.\n",
        "    column_name: The name of the column to calculate the mean of.\n",
        "\n",
        "  Returns:\n",
        "    The mean of the specified column, or None if the column doesn't exist.\n",
        "  \"\"\"\n",
        "  if column_name in df.columns:\n",
        "    return df[column_name].mean()\n",
        "  else:\n",
        "    print(f\"Column '{column_name}' not found in the DataFrame.\")\n",
        "    return None\n",
        "\n",
        "# Example usage:\n",
        "data = {'Name': ['Alice', 'Bob', 'Charlie', 'David'],\n",
        "        'Age': [25, 30, 28, 35],\n",
        "        'Salary': [50000, 60000, 55000, 70000]}\n",
        "\n",
        "df = pd.DataFrame(data)\n",
        "\n",
        "# Calculate the mean of the 'Age' column\n",
        "age_mean = calculate_column_mean(df, 'Age')\n",
        "if age_mean is not None:\n",
        "    print(f\"Mean Age: {age_mean}\")\n",
        "\n",
        "# Calculate the mean of the 'Salary' column\n",
        "salary_mean = calculate_column_mean(df, 'Salary')\n",
        "\n",
        "if salary_mean is not None:\n",
        "    print(f\"Mean Salary: {salary_mean}\")\n",
        "\n",
        "# Try to calculate the mean of a non-existent column\n",
        "mean_of_nonexistent = calculate_column_mean(df, 'NonExistentColumn')"
      ],
      "metadata": {
        "colab": {
          "base_uri": "https://localhost:8080/"
        },
        "id": "UkhdI3DIRdWb",
        "outputId": "f3ec05e8-b6bb-4e0b-a217-c32ad4a905bf"
      },
      "execution_count": 2,
      "outputs": [
        {
          "output_type": "stream",
          "name": "stdout",
          "text": [
            "Mean Age: 29.5\n",
            "Mean Salary: 58750.0\n",
            "Column 'NonExistentColumn' not found in the DataFrame.\n"
          ]
        }
      ]
    },
    {
      "cell_type": "markdown",
      "source": [
        "**3. Create a scatter plot using Matplotlib.**"
      ],
      "metadata": {
        "id": "J12Z5pb4Rf4q"
      }
    },
    {
      "cell_type": "code",
      "source": [
        "import matplotlib.pyplot as plt\n",
        "import numpy as np\n",
        "\n",
        "# Generate some sample data\n",
        "np.random.seed(0)  # For reproducible results\n",
        "x = np.random.rand(50) * 10  # 50 random x values between 0 and 10\n",
        "y = 2 * x + np.random.randn(50) * 5  # 50 random y values with some noise\n",
        "\n",
        "# Create the scatter plot\n",
        "plt.scatter(x, y, c='blue', marker='o', alpha=0.7)  # Customize appearance\n",
        "\n",
        "# Add labels and title\n",
        "plt.xlabel(\"X-axis\")\n",
        "plt.ylabel(\"Y-axis\")\n",
        "plt.title(\"Scatter Plot of X vs. Y\")\n",
        "\n",
        "# Add a grid for better readability (optional)\n",
        "plt.grid(True)\n",
        "\n",
        "# Display the plot\n",
        "plt.show()"
      ],
      "metadata": {
        "colab": {
          "base_uri": "https://localhost:8080/",
          "height": 472
        },
        "id": "LVIilw82R1yG",
        "outputId": "614848f9-bdf0-4818-c1aa-f75868d4547f"
      },
      "execution_count": 3,
      "outputs": [
        {
          "output_type": "display_data",
          "data": {
            "text/plain": [
              "<Figure size 640x480 with 1 Axes>"
            ],
            "image/png": "[encoded data removed]"
          },
          "metadata": {}
        }
      ]
    },
    {
      "cell_type": "markdown",
      "source": [
        "**4. How do you calculate the correction matrix using Seaborn and visualise it with a heatmap?**"
      ],
      "metadata": {
        "id": "BaQSBiXbR4sC"
      }
    },
    {
      "cell_type": "code",
      "source": [
        "import pandas as pd\n",
        "import seaborn as sns\n",
        "import matplotlib.pyplot as plt\n",
        "\n",
        "# Sample DataFrame (replace with your own data)\n",
        "data = {'A': [1, 2, 3, 4, 5],\n",
        "        'B': [5, 4, 3, 2, 1],\n",
        "        'C': [2, 4, 6, 8, 10],\n",
        "        'D': [10, 8, 6, 4, 2]}\n",
        "\n",
        "df = pd.DataFrame(data)\n",
        "\n",
        "# 1. Calculate the correlation matrix\n",
        "correlation_matrix = df.corr()\n",
        "\n",
        "# 2. Visualize the correlation matrix using a heatmap\n",
        "plt.figure(figsize=(8, 6))  # Adjust figure size as needed\n",
        "sns.heatmap(correlation_matrix, annot=True, cmap='coolwarm', linewidths=.5) # annot displays the values, coolwarm is a color map.\n",
        "\n",
        "plt.title('Correlation Matrix Heatmap')\n",
        "plt.show()"
      ],
      "metadata": {
        "colab": {
          "base_uri": "https://localhost:8080/",
          "height": 545
        },
        "id": "BNihBUAFSIwY",
        "outputId": "8fa0a1de-7040-48c2-90d4-1bb7f6622247"
      },
      "execution_count": 4,
      "outputs": [
        {
          "output_type": "display_data",
          "data": {
            "text/plain": [
              "<Figure size 800x600 with 2 Axes>"
            ],
            "image/png": "[encoded data removed]"
          },
          "metadata": {}
        }
      ]
    },
    {
      "cell_type": "markdown",
      "source": [
        "**5. Generate a bar plot using Plotly.**"
      ],
      "metadata": {
        "id": "cZi1vTVXSLrU"
      }
    },
    {
      "cell_type": "code",
      "source": [
        "import plotly.express as px\n",
        "\n",
        "# Sample data\n",
        "data = {'Category': ['A', 'B', 'C', 'D'],\n",
        "        'Value': [20, 35, 30, 45]}\n",
        "\n",
        "# Create the bar plot\n",
        "fig = px.bar(data, x='Category', y='Value', title='Bar Plot Example')\n",
        "\n",
        "# Display the plot\n",
        "fig.show()"
      ],
      "metadata": {
        "colab": {
          "base_uri": "https://localhost:8080/",
          "height": 542
        },
        "id": "Y6Tbf32wSUMH",
        "outputId": "ee0799dd-08b7-417e-f810-eaf9081c5ddd"
      },
      "execution_count": 5,
      "outputs": [
        {
          "output_type": "display_data",
          "data": {
            "text/html": [
              "<html>\n",
              "<head><meta charset=\"utf-8\" /></head>\n",
              "<body>\n",
              "    <div>            <script src=\"https://cdnjs.cloudflare.com/ajax/libs/mathjax/2.7.5/MathJax.js?config=TeX-AMS-MML_SVG\"></script><script type=\"text/javascript\">if (window.MathJax && window.MathJax.Hub && window.MathJax.Hub.Config) {window.MathJax.Hub.Config({SVG: {font: \"STIX-Web\"}});}</script>                <script type=\"text/javascript\">window.PlotlyConfig = {MathJaxConfig: 'local'};</script>\n",
              "        <script charset=\"utf-8\" src=\"https://cdn.plot.ly/plotly-2.35.2.min.js\"></script>                <div id=\"f9e84b92-9ba6-4e60-a15a-c668045f6ab2\" class=\"plotly-graph-div\" style=\"height:525px; width:100%;\"></div>            <script type=\"text/javascript\">                                    window.PLOTLYENV=window.PLOTLYENV || {};                                    if (document.getElementById(\"f9e84b92-9ba6-4e60-a15a-c668045f6ab2\")) {                    Plotly.newPlot(                        \"f9e84b92-9ba6-4e60-a15a-c668045f6ab2\",                        [{\"alignmentgroup\":\"True\",\"hovertemplate\":\"Category=%{x}\\u003cbr\\u003eValue=%{y}\\u003cextra\\u003e\\u003c\\u002fextra\\u003e\",\"legendgroup\":\"\",\"marker\":{\"color\":\"#636efa\",\"pattern\":{\"shape\":\"\"}},\"name\":\"\",\"offsetgroup\":\"\",\"orientation\":\"v\",\"showlegend\":false,\"textposition\":\"auto\",\"x\":[\"A\",\"B\",\"C\",\"D\"],\"xaxis\":\"x\",\"y\":[20,35,30,45],\"yaxis\":\"y\",\"type\":\"bar\"}],                        {\"template\":{\"data\":{\"histogram2dcontour\":[{\"type\":\"histogram2dcontour\",\"colorbar\":{\"outlinewidth\":0,\"ticks\":\"\"},\"colorscale\":[[0.0,\"#0d0887\"],[0.1111111111111111,\"#46039f\"],[0.2222222222222222,\"#7201a8\"],[0.3333333333333333,\"#9c179e\"],[0.4444444444444444,\"#bd3786\"],[0.5555555555555556,\"#d8576b\"],[0.6666666666666666,\"#ed7953\"],[0.7777777777777778,\"#fb9f3a\"],[0.8888888888888888,\"#fdca26\"],[1.0,\"#f0f921\"]]}],\"choropleth\":[{\"type\":\"choropleth\",\"colorbar\":{\"outlinewidth\":0,\"ticks\":\"\"}}],\"histogram2d\":[{\"type\":\"histogram2d\",\"colorbar\":{\"outlinewidth\":0,\"ticks\":\"\"},\"colorscale\":[[0.0,\"#0d0887\"],[0.1111111111111111,\"#46039f\"],[0.2222222222222222,\"#7201a8\"],[0.3333333333333333,\"#9c179e\"],[0.4444444444444444,\"#bd3786\"],[0.5555555555555556,\"#d8576b\"],[0.6666666666666666,\"#ed7953\"],[0.7777777777777778,\"#fb9f3a\"],[0.8888888888888888,\"#fdca26\"],[1.0,\"#f0f921\"]]}],\"heatmap\":[{\"type\":\"heatmap\",\"colorbar\":{\"outlinewidth\":0,\"ticks\":\"\"},\"colorscale\":[[0.0,\"#0d0887\"],[0.1111111111111111,\"#46039f\"],[0.2222222222222222,\"#7201a8\"],[0.3333333333333333,\"#9c179e\"],[0.4444444444444444,\"#bd3786\"],[0.5555555555555556,\"#d8576b\"],[0.6666666666666666,\"#ed7953\"],[0.7777777777777778,\"#fb9f3a\"],[0.8888888888888888,\"#fdca26\"],[1.0,\"#f0f921\"]]}],\"heatmapgl\":[{\"type\":\"heatmapgl\",\"colorbar\":{\"outlinewidth\":0,\"ticks\":\"\"},\"colorscale\":[[0.0,\"#0d0887\"],[0.1111111111111111,\"#46039f\"],[0.2222222222222222,\"#7201a8\"],[0.3333333333333333,\"#9c179e\"],[0.4444444444444444,\"#bd3786\"],[0.5555555555555556,\"#d8576b\"],[0.6666666666666666,\"#ed7953\"],[0.7777777777777778,\"#fb9f3a\"],[0.8888888888888888,\"#fdca26\"],[1.0,\"#f0f921\"]]}],\"contourcarpet\":[{\"type\":\"contourcarpet\",\"colorbar\":{\"outlinewidth\":0,\"ticks\":\"\"}}],\"contour\":[{\"type\":\"contour\",\"colorbar\":{\"outlinewidth\":0,\"ticks\":\"\"},\"colorscale\":[[0.0,\"#0d0887\"],[0.1111111111111111,\"#46039f\"],[0.2222222222222222,\"#7201a8\"],[0.3333333333333333,\"#9c179e\"],[0.4444444444444444,\"#bd3786\"],[0.5555555555555556,\"#d8576b\"],[0.6666666666666666,\"#ed7953\"],[0.7777777777777778,\"#fb9f3a\"],[0.8888888888888888,\"#fdca26\"],[1.0,\"#f0f921\"]]}],\"surface\":[{\"type\":\"surface\",\"colorbar\":{\"outlinewidth\":0,\"ticks\":\"\"},\"colorscale\":[[0.0,\"#0d0887\"],[0.1111111111111111,\"#46039f\"],[0.2222222222222222,\"#7201a8\"],[0.3333333333333333,\"#9c179e\"],[0.4444444444444444,\"#bd3786\"],[0.5555555555555556,\"#d8576b\"],[0.6666666666666666,\"#ed7953\"],[0.7777777777777778,\"#fb9f3a\"],[0.8888888888888888,\"#fdca26\"],[1.0,\"#f0f921\"]]}],\"mesh3d\":[{\"type\":\"mesh3d\",\"colorbar\":{\"outlinewidth\":0,\"ticks\":\"\"}}],\"scatter\":[{\"fillpattern\":{\"fillmode\":\"overlay\",\"size\":10,\"solidity\":0.2},\"type\":\"scatter\"}],\"parcoords\":[{\"type\":\"parcoords\",\"line\":{\"colorbar\":{\"outlinewidth\":0,\"ticks\":\"\"}}}],\"scatterpolargl\":[{\"type\":\"scatterpolargl\",\"marker\":{\"colorbar\":{\"outlinewidth\":0,\"ticks\":\"\"}}}],\"bar\":[{\"error_x\":{\"color\":\"#2a3f5f\"},\"error_y\":{\"color\":\"#2a3f5f\"},\"marker\":{\"line\":{\"color\":\"#E5ECF6\",\"width\":0.5},\"pattern\":{\"fillmode\":\"overlay\",\"size\":10,\"solidity\":0.2}},\"type\":\"bar\"}],\"scattergeo\":[{\"type\":\"scattergeo\",\"marker\":{\"colorbar\":{\"outlinewidth\":0,\"ticks\":\"\"}}}],\"scatterpolar\":[{\"type\":\"scatterpolar\",\"marker\":{\"colorbar\":{\"outlinewidth\":0,\"ticks\":\"\"}}}],\"histogram\":[{\"marker\":{\"pattern\":{\"fillmode\":\"overlay\",\"size\":10,\"solidity\":0.2}},\"type\":\"histogram\"}],\"scattergl\":[{\"type\":\"scattergl\",\"marker\":{\"colorbar\":{\"outlinewidth\":0,\"ticks\":\"\"}}}],\"scatter3d\":[{\"type\":\"scatter3d\",\"line\":{\"colorbar\":{\"outlinewidth\":0,\"ticks\":\"\"}},\"marker\":{\"colorbar\":{\"outlinewidth\":0,\"ticks\":\"\"}}}],\"scattermapbox\":[{\"type\":\"scattermapbox\",\"marker\":{\"colorbar\":{\"outlinewidth\":0,\"ticks\":\"\"}}}],\"scatterternary\":[{\"type\":\"scatterternary\",\"marker\":{\"colorbar\":{\"outlinewidth\":0,\"ticks\":\"\"}}}],\"scattercarpet\":[{\"type\":\"scattercarpet\",\"marker\":{\"colorbar\":{\"outlinewidth\":0,\"ticks\":\"\"}}}],\"carpet\":[{\"aaxis\":{\"endlinecolor\":\"#2a3f5f\",\"gridcolor\":\"white\",\"linecolor\":\"white\",\"minorgridcolor\":\"white\",\"startlinecolor\":\"#2a3f5f\"},\"baxis\":{\"endlinecolor\":\"#2a3f5f\",\"gridcolor\":\"white\",\"linecolor\":\"white\",\"minorgridcolor\":\"white\",\"startlinecolor\":\"#2a3f5f\"},\"type\":\"carpet\"}],\"table\":[{\"cells\":{\"fill\":{\"color\":\"#EBF0F8\"},\"line\":{\"color\":\"white\"}},\"header\":{\"fill\":{\"color\":\"#C8D4E3\"},\"line\":{\"color\":\"white\"}},\"type\":\"table\"}],\"barpolar\":[{\"marker\":{\"line\":{\"color\":\"#E5ECF6\",\"width\":0.5},\"pattern\":{\"fillmode\":\"overlay\",\"size\":10,\"solidity\":0.2}},\"type\":\"barpolar\"}],\"pie\":[{\"automargin\":true,\"type\":\"pie\"}]},\"layout\":{\"autotypenumbers\":\"strict\",\"colorway\":[\"#636efa\",\"#EF553B\",\"#00cc96\",\"#ab63fa\",\"#FFA15A\",\"#19d3f3\",\"#FF6692\",\"#B6E880\",\"#FF97FF\",\"#FECB52\"],\"font\":{\"color\":\"#2a3f5f\"},\"hovermode\":\"closest\",\"hoverlabel\":{\"align\":\"left\"},\"paper_bgcolor\":\"white\",\"plot_bgcolor\":\"#E5ECF6\",\"polar\":{\"bgcolor\":\"#E5ECF6\",\"angularaxis\":{\"gridcolor\":\"white\",\"linecolor\":\"white\",\"ticks\":\"\"},\"radialaxis\":{\"gridcolor\":\"white\",\"linecolor\":\"white\",\"ticks\":\"\"}},\"ternary\":{\"bgcolor\":\"#E5ECF6\",\"aaxis\":{\"gridcolor\":\"white\",\"linecolor\":\"white\",\"ticks\":\"\"},\"baxis\":{\"gridcolor\":\"white\",\"linecolor\":\"white\",\"ticks\":\"\"},\"caxis\":{\"gridcolor\":\"white\",\"linecolor\":\"white\",\"ticks\":\"\"}},\"coloraxis\":{\"colorbar\":{\"outlinewidth\":0,\"ticks\":\"\"}},\"colorscale\":{\"sequential\":[[0.0,\"#0d0887\"],[0.1111111111111111,\"#46039f\"],[0.2222222222222222,\"#7201a8\"],[0.3333333333333333,\"#9c179e\"],[0.4444444444444444,\"#bd3786\"],[0.5555555555555556,\"#d8576b\"],[0.6666666666666666,\"#ed7953\"],[0.7777777777777778,\"#fb9f3a\"],[0.8888888888888888,\"#fdca26\"],[1.0,\"#f0f921\"]],\"sequentialminus\":[[0.0,\"#0d0887\"],[0.1111111111111111,\"#46039f\"],[0.2222222222222222,\"#7201a8\"],[0.3333333333333333,\"#9c179e\"],[0.4444444444444444,\"#bd3786\"],[0.5555555555555556,\"#d8576b\"],[0.6666666666666666,\"#ed7953\"],[0.7777777777777778,\"#fb9f3a\"],[0.8888888888888888,\"#fdca26\"],[1.0,\"#f0f921\"]],\"diverging\":[[0,\"#8e0152\"],[0.1,\"#c51b7d\"],[0.2,\"#de77ae\"],[0.3,\"#f1b6da\"],[0.4,\"#fde0ef\"],[0.5,\"#f7f7f7\"],[0.6,\"#e6f5d0\"],[0.7,\"#b8e186\"],[0.8,\"#7fbc41\"],[0.9,\"#4d9221\"],[1,\"#276419\"]]},\"xaxis\":{\"gridcolor\":\"white\",\"linecolor\":\"white\",\"ticks\":\"\",\"title\":{\"standoff\":15},\"zerolinecolor\":\"white\",\"automargin\":true,\"zerolinewidth\":2},\"yaxis\":{\"gridcolor\":\"white\",\"linecolor\":\"white\",\"ticks\":\"\",\"title\":{\"standoff\":15},\"zerolinecolor\":\"white\",\"automargin\":true,\"zerolinewidth\":2},\"scene\":{\"xaxis\":{\"backgroundcolor\":\"#E5ECF6\",\"gridcolor\":\"white\",\"linecolor\":\"white\",\"showbackground\":true,\"ticks\":\"\",\"zerolinecolor\":\"white\",\"gridwidth\":2},\"yaxis\":{\"backgroundcolor\":\"#E5ECF6\",\"gridcolor\":\"white\",\"linecolor\":\"white\",\"showbackground\":true,\"ticks\":\"\",\"zerolinecolor\":\"white\",\"gridwidth\":2},\"zaxis\":{\"backgroundcolor\":\"#E5ECF6\",\"gridcolor\":\"white\",\"linecolor\":\"white\",\"showbackground\":true,\"ticks\":\"\",\"zerolinecolor\":\"white\",\"gridwidth\":2}},\"shapedefaults\":{\"line\":{\"color\":\"#2a3f5f\"}},\"annotationdefaults\":{\"arrowcolor\":\"#2a3f5f\",\"arrowhead\":0,\"arrowwidth\":1},\"geo\":{\"bgcolor\":\"white\",\"landcolor\":\"#E5ECF6\",\"subunitcolor\":\"white\",\"showland\":true,\"showlakes\":true,\"lakecolor\":\"white\"},\"title\":{\"x\":0.05},\"mapbox\":{\"style\":\"light\"}}},\"xaxis\":{\"anchor\":\"y\",\"domain\":[0.0,1.0],\"title\":{\"text\":\"Category\"}},\"yaxis\":{\"anchor\":\"x\",\"domain\":[0.0,1.0],\"title\":{\"text\":\"Value\"}},\"legend\":{\"tracegroupgap\":0},\"title\":{\"text\":\"Bar Plot Example\"},\"barmode\":\"relative\"},                        {\"responsive\": true}                    ).then(function(){\n",
              "                            \n",
              "var gd = document.getElementById('f9e84b92-9ba6-4e60-a15a-c668045f6ab2');\n",
              "var x = new MutationObserver(function (mutations, observer) {{\n",
              "        var display = window.getComputedStyle(gd).display;\n",
              "        if (!display || display === 'none') {{\n",
              "            console.log([gd, 'removed!']);\n",
              "            Plotly.purge(gd);\n",
              "            observer.disconnect();\n",
              "        }}\n",
              "}});\n",
              "\n",
              "// Listen for the removal of the full notebook cells\n",
              "var notebookContainer = gd.closest('#notebook-container');\n",
              "if (notebookContainer) {{\n",
              "    x.observe(notebookContainer, {childList: true});\n",
              "}}\n",
              "\n",
              "// Listen for the clearing of the current output cell\n",
              "var outputEl = gd.closest('.output');\n",
              "if (outputEl) {{\n",
              "    x.observe(outputEl, {childList: true});\n",
              "}}\n",
              "\n",
              "                        })                };                            </script>        </div>\n",
              "</body>\n",
              "</html>"
            ]
          },
          "metadata": {}
        }
      ]
    },
    {
      "cell_type": "markdown",
      "source": [
        "**6. Create a DataFrame and add a new column based on an existing column.**"
      ],
      "metadata": {
        "id": "mB0-gQC_Shyy"
      }
    },
    {
      "cell_type": "code",
      "source": [
        "import pandas as pd\n",
        "\n",
        "# Create a sample DataFrame\n",
        "data = {'Name': ['Alice', 'Bob', 'Charlie', 'David'],\n",
        "        'Age': [25, 30, 28, 35],\n",
        "        'City': ['New York', 'London', 'Tokyo', 'Paris']}\n",
        "\n",
        "df = pd.DataFrame(data)\n",
        "\n",
        "print(\"Original DataFrame:\")\n",
        "print(df)\n",
        "\n",
        "# Add a new column 'Age_Squared' based on the 'Age' column\n",
        "df['Age_Squared'] = df['Age'] ** 2\n",
        "\n",
        "print(\"\\nDataFrame with new column 'Age_Squared':\")\n",
        "print(df)\n",
        "\n",
        "# Add a new column 'Name_Length' based on the length of 'Name' column.\n",
        "df['Name_Length'] = df['Name'].str.len()\n",
        "\n",
        "print(\"\\nDataFrame with new column 'Name_Length':\")\n",
        "print(df)\n",
        "\n",
        "# Add a new column 'Is_Adult' based on the 'Age' column.\n",
        "df['Is_Adult'] = df['Age'] >= 18\n",
        "\n",
        "print(\"\\nDataFrame with new column 'Is_Adult':\")\n",
        "print(df)\n",
        "\n",
        "# Add a new column 'City_Country' based on the 'City' column.\n",
        "# This assumes that the city name implies the country.\n",
        "city_country_map = {'New York': 'USA', 'London': 'UK', 'Tokyo': 'Japan', 'Paris': 'France'}\n",
        "df['City_Country'] = df['City'].map(city_country_map)\n",
        "\n",
        "print(\"\\nDataFrame with new column 'City_Country':\")\n",
        "print(df)"
      ],
      "metadata": {
        "colab": {
          "base_uri": "https://localhost:8080/"
        },
        "id": "U_puPbutS0Iw",
        "outputId": "73e1b675-bdd0-41cd-d753-67515d60291b"
      },
      "execution_count": 6,
      "outputs": [
        {
          "output_type": "stream",
          "name": "stdout",
          "text": [
            "Original DataFrame:\n",
            "      Name  Age      City\n",
            "0    Alice   25  New York\n",
            "1      Bob   30    London\n",
            "2  Charlie   28     Tokyo\n",
            "3    David   35     Paris\n",
            "\n",
            "DataFrame with new column 'Age_Squared':\n",
            "      Name  Age      City  Age_Squared\n",
            "0    Alice   25  New York          625\n",
            "1      Bob   30    London          900\n",
            "2  Charlie   28     Tokyo          784\n",
            "3    David   35     Paris         1225\n",
            "\n",
            "DataFrame with new column 'Name_Length':\n",
            "      Name  Age      City  Age_Squared  Name_Length\n",
            "0    Alice   25  New York          625            5\n",
            "1      Bob   30    London          900            3\n",
            "2  Charlie   28     Tokyo          784            7\n",
            "3    David   35     Paris         1225            5\n",
            "\n",
            "DataFrame with new column 'Is_Adult':\n",
            "      Name  Age      City  Age_Squared  Name_Length  Is_Adult\n",
            "0    Alice   25  New York          625            5      True\n",
            "1      Bob   30    London          900            3      True\n",
            "2  Charlie   28     Tokyo          784            7      True\n",
            "3    David   35     Paris         1225            5      True\n",
            "\n",
            "DataFrame with new column 'City_Country':\n",
            "      Name  Age      City  Age_Squared  Name_Length  Is_Adult City_Country\n",
            "0    Alice   25  New York          625            5      True          USA\n",
            "1      Bob   30    London          900            3      True           UK\n",
            "2  Charlie   28     Tokyo          784            7      True        Japan\n",
            "3    David   35     Paris         1225            5      True       France\n"
          ]
        }
      ]
    },
    {
      "cell_type": "markdown",
      "source": [
        "**7. Write a program to perform element-wise multiplication of two NumPy arrays.**"
      ],
      "metadata": {
        "id": "AERQhmIrS2wX"
      }
    },
    {
      "cell_type": "code",
      "source": [
        "import numpy as np\n",
        "\n",
        "def elementwise_multiply(array1, array2):\n",
        "  \"\"\"\n",
        "  Performs element-wise multiplication of two NumPy arrays.\n",
        "\n",
        "  Args:\n",
        "    array1: The first NumPy array.\n",
        "    array2: The second NumPy array.\n",
        "\n",
        "  Returns:\n",
        "    A NumPy array containing the element-wise product, or None if the arrays\n",
        "    have incompatible shapes.\n",
        "  \"\"\"\n",
        "  if array1.shape != array2.shape:\n",
        "    print(\"Error: Arrays must have the same shape for element-wise multiplication.\")\n",
        "    return None\n",
        "\n",
        "  return array1 * array2\n",
        "\n",
        "# Example Usage\n",
        "array_a = np.array([1, 2, 3, 4])\n",
        "array_b = np.array([5, 6, 7, 8])\n",
        "\n",
        "result = elementwise_multiply(array_a, array_b)\n",
        "\n",
        "if result is not None:\n",
        "  print(\"Array A:\", array_a)\n",
        "  print(\"Array B:\", array_b)\n",
        "  print(\"Element-wise product:\", result)\n",
        "\n",
        "# Example with 2D arrays:\n",
        "array_c = np.array([[1, 2], [3, 4]])\n",
        "array_d = np.array([[5, 6], [7, 8]])\n",
        "\n",
        "result_2d = elementwise_multiply(array_c, array_d)\n",
        "\n",
        "if result_2d is not None:\n",
        "  print(\"\\nArray C:\\n\", array_c)\n",
        "  print(\"Array D:\\n\", array_d)\n",
        "  print(\"Element-wise product:\\n\", result_2d)\n",
        "\n",
        "# Example of incompatible shapes:\n",
        "array_e = np.array([1, 2, 3])\n",
        "array_f = np.array([4, 5])\n",
        "\n",
        "result_incompatible = elementwise_multiply(array_e, array_f)"
      ],
      "metadata": {
        "colab": {
          "base_uri": "https://localhost:8080/"
        },
        "id": "6CzYZgB-az26",
        "outputId": "b00198ba-d9c4-4787-9e3a-a985507e45ae"
      },
      "execution_count": 7,
      "outputs": [
        {
          "output_type": "stream",
          "name": "stdout",
          "text": [
            "Array A: [1 2 3 4]\n",
            "Array B: [5 6 7 8]\n",
            "Element-wise product: [ 5 12 21 32]\n",
            "\n",
            "Array C:\n",
            " [[1 2]\n",
            " [3 4]]\n",
            "Array D:\n",
            " [[5 6]\n",
            " [7 8]]\n",
            "Element-wise product:\n",
            " [[ 5 12]\n",
            " [21 32]]\n",
            "Error: Arrays must have the same shape for element-wise multiplication.\n"
          ]
        }
      ]
    },
    {
      "cell_type": "markdown",
      "source": [
        "**8. Create a line plot with multiple lines using Matplotlib.**"
      ],
      "metadata": {
        "id": "BafxdOM8a_rK"
      }
    },
    {
      "cell_type": "code",
      "source": [
        "import matplotlib.pyplot as plt\n",
        "import numpy as np\n",
        "\n",
        "# Sample data\n",
        "x = np.linspace(0, 10, 100)  # 100 evenly spaced points from 0 to 10\n",
        "y1 = np.sin(x)\n",
        "y2 = np.cos(x)\n",
        "y3 = np.sin(x) * np.exp(-x/3) #exponentially damped sine wave\n",
        "\n",
        "# Create the line plot with multiple lines\n",
        "plt.plot(x, y1, label='sin(x)', linestyle='-', color='blue')\n",
        "plt.plot(x, y2, label='cos(x)', linestyle='--', color='red')\n",
        "plt.plot(x, y3, label='sin(x) * exp(-x/3)', linestyle=':', color='green')\n",
        "\n",
        "# Add labels and title\n",
        "plt.xlabel('X-axis')\n",
        "plt.ylabel('Y-axis')\n",
        "plt.title('Line Plot with Multiple Lines')\n",
        "\n",
        "# Add legend\n",
        "plt.legend()\n",
        "\n",
        "# Add grid (optional)\n",
        "plt.grid(True)\n",
        "\n",
        "# Display the plot\n",
        "plt.show()"
      ],
      "metadata": {
        "colab": {
          "base_uri": "https://localhost:8080/",
          "height": 472
        },
        "id": "dwmDePY5bQQA",
        "outputId": "d7e6888b-db03-497a-ec64-ed7a805b1c3c"
      },
      "execution_count": 8,
      "outputs": [
        {
          "output_type": "display_data",
          "data": {
            "text/plain": [
              "<Figure size 640x480 with 1 Axes>"
            ],
            "image/png": "[encoded data removed]"
          },
          "metadata": {}
        }
      ]
    },
    {
      "cell_type": "markdown",
      "source": [
        "**9. Generate a Pandas DataFrame and filter rows where a column value is greater than a threshold.**"
      ],
      "metadata": {
        "id": "l-VU7_rlbTO9"
      }
    },
    {
      "cell_type": "code",
      "source": [
        "import pandas as pd\n",
        "\n",
        "# Create a sample DataFrame\n",
        "data = {'Name': ['Alice', 'Bob', 'Charlie', 'David', 'Eve'],\n",
        "        'Age': [25, 30, 22, 35, 28],\n",
        "        'Salary': [50000, 60000, 45000, 70000, 55000]}\n",
        "\n",
        "df = pd.DataFrame(data)\n",
        "\n",
        "print(\"Original DataFrame:\")\n",
        "print(df)\n",
        "\n",
        "# Define the threshold\n",
        "threshold = 30\n",
        "\n",
        "# Filter rows where 'Age' is greater than the threshold\n",
        "filtered_df = df[df['Age'] > threshold]\n",
        "\n",
        "print(f\"\\nRows where Age > {threshold}:\")\n",
        "print(filtered_df)\n",
        "\n",
        "#Filter rows where salary is greater than a different threshold.\n",
        "salary_threshold = 55000;\n",
        "filtered_salary_df = df[df['Salary'] > salary_threshold]\n",
        "\n",
        "print(f\"\\nRows where Salary > {salary_threshold}:\")\n",
        "print(filtered_salary_df)"
      ],
      "metadata": {
        "colab": {
          "base_uri": "https://localhost:8080/"
        },
        "id": "WP77BAE2bl8I",
        "outputId": "53eedd9c-4f8f-4cb9-f9cb-5662a403bd7c"
      },
      "execution_count": 9,
      "outputs": [
        {
          "output_type": "stream",
          "name": "stdout",
          "text": [
            "Original DataFrame:\n",
            "      Name  Age  Salary\n",
            "0    Alice   25   50000\n",
            "1      Bob   30   60000\n",
            "2  Charlie   22   45000\n",
            "3    David   35   70000\n",
            "4      Eve   28   55000\n",
            "\n",
            "Rows where Age > 30:\n",
            "    Name  Age  Salary\n",
            "3  David   35   70000\n",
            "\n",
            "Rows where Salary > 55000:\n",
            "    Name  Age  Salary\n",
            "1    Bob   30   60000\n",
            "3  David   35   70000\n"
          ]
        }
      ]
    },
    {
      "cell_type": "markdown",
      "source": [
        "**10. Create a histogram using Seaborn to visualise a distribution.**"
      ],
      "metadata": {
        "id": "_4vDKlETboIe"
      }
    },
    {
      "cell_type": "code",
      "source": [
        "import seaborn as sns\n",
        "import matplotlib.pyplot as plt\n",
        "import numpy as np\n",
        "\n",
        "# Generate some sample data (normal distribution)\n",
        "np.random.seed(0)  # For reproducibility\n",
        "data = np.random.normal(loc=50, scale=15, size=500)\n",
        "\n",
        "# Create the histogram using Seaborn\n",
        "sns.histplot(data, bins=30, kde=True, color='skyblue') # kde adds a kernel density estimate\n",
        "\n",
        "# Add labels and title\n",
        "plt.xlabel(\"Value\")\n",
        "plt.ylabel(\"Frequency\")\n",
        "plt.title(\"Histogram of Sample Data\")\n",
        "\n",
        "# Display the plot\n",
        "plt.show()\n",
        "\n",
        "#Example with a different distribution and customization.\n",
        "data2 = np.random.exponential(scale=20, size=500)\n",
        "\n",
        "sns.histplot(data2, bins=40, color = 'salmon', edgecolor = 'black', alpha = 0.7, kde = True)\n",
        "plt.xlabel(\"Value\")\n",
        "plt.ylabel(\"Frequency\")\n",
        "plt.title(\"Exponential Distribution Histogram\")\n",
        "plt.show()"
      ],
      "metadata": {
        "colab": {
          "base_uri": "https://localhost:8080/",
          "height": 927
        },
        "id": "Ioh6qtkTb1G5",
        "outputId": "9544881f-ac56-4ffa-c540-ace8bf4490e0"
      },
      "execution_count": 10,
      "outputs": [
        {
          "output_type": "display_data",
          "data": {
            "text/plain": [
              "<Figure size 640x480 with 1 Axes>"
            ],
            "image/png": "[encoded data removed]"
          },
          "metadata": {}
        },
        {
          "output_type": "display_data",
          "data": {
            "text/plain": [
              "<Figure size 640x480 with 1 Axes>"
            ],
            "image/png": "[encoded data removed]"
          },
          "metadata": {}
        }
      ]
    },
    {
      "cell_type": "markdown",
      "source": [
        "**11. Perform matrix multiplication using NumPy.**"
      ],
      "metadata": {
        "id": "J1hTluB4b4E9"
      }
    },
    {
      "cell_type": "code",
      "source": [
        "import numpy as np\n",
        "\n",
        "def matrix_multiply(matrix1, matrix2):\n",
        "  \"\"\"\n",
        "  Performs matrix multiplication of two NumPy matrices.\n",
        "\n",
        "  Args:\n",
        "    matrix1: The first NumPy matrix.\n",
        "    matrix2: The second NumPy matrix.\n",
        "\n",
        "  Returns:\n",
        "    A NumPy matrix containing the product, or None if the matrices\n",
        "    have incompatible dimensions.\n",
        "  \"\"\"\n",
        "  if matrix1.shape[1] != matrix2.shape[0]:\n",
        "    print(\"Error: Incompatible dimensions for matrix multiplication.\")\n",
        "    return None\n",
        "\n",
        "  return np.dot(matrix1, matrix2) #Or matrix1 @ matrix2\n",
        "\n",
        "# Example Usage:\n",
        "matrix_a = np.array([[1, 2], [3, 4]])\n",
        "matrix_b = np.array([[5, 6], [7, 8]])\n",
        "\n",
        "result = matrix_multiply(matrix_a, matrix_b)\n",
        "\n",
        "if result is not None:\n",
        "  print(\"Matrix A:\\n\", matrix_a)\n",
        "  print(\"Matrix B:\\n\", matrix_b)\n",
        "  print(\"Matrix product:\\n\", result)\n",
        "\n",
        "# Example with matrices of different dimensions:\n",
        "matrix_c = np.array([[1, 2, 3], [4, 5, 6]])\n",
        "matrix_d = np.array([[7, 8], [9, 10], [11, 12]])\n",
        "\n",
        "result_diff_dims = matrix_multiply(matrix_c, matrix_d)\n",
        "\n",
        "if result_diff_dims is not None:\n",
        "  print(\"\\nMatrix C:\\n\", matrix_c)\n",
        "  print(\"Matrix D:\\n\", matrix_d)\n",
        "  print(\"Matrix product:\\n\", result_diff_dims)\n",
        "\n",
        "# Example of incompatible dimensions:\n",
        "matrix_e = np.array([[1, 2], [3, 4]])\n",
        "matrix_f = np.array([[5, 6, 7], [8, 9, 10]])\n",
        "\n",
        "result_incompatible = matrix_multiply(matrix_e, matrix_f)"
      ],
      "metadata": {
        "colab": {
          "base_uri": "https://localhost:8080/"
        },
        "id": "ErXJfgWCcAsV",
        "outputId": "180c52b9-7568-42d3-996d-e206f82ef744"
      },
      "execution_count": 11,
      "outputs": [
        {
          "output_type": "stream",
          "name": "stdout",
          "text": [
            "Matrix A:\n",
            " [[1 2]\n",
            " [3 4]]\n",
            "Matrix B:\n",
            " [[5 6]\n",
            " [7 8]]\n",
            "Matrix product:\n",
            " [[19 22]\n",
            " [43 50]]\n",
            "\n",
            "Matrix C:\n",
            " [[1 2 3]\n",
            " [4 5 6]]\n",
            "Matrix D:\n",
            " [[ 7  8]\n",
            " [ 9 10]\n",
            " [11 12]]\n",
            "Matrix product:\n",
            " [[ 58  64]\n",
            " [139 154]]\n"
          ]
        }
      ]
    },
    {
      "cell_type": "markdown",
      "source": [
        "**12. Use Pandas to load a CSV file and display its firfst 5 rows.**"
      ],
      "metadata": {
        "id": "xTkHxzk6cCum"
      }
    },
    {
      "cell_type": "code",
      "source": [
        "import pandas as pd\n",
        "\n",
        "def display_first_5_rows(csv_file_path):\n",
        "  \"\"\"\n",
        "  Loads a CSV file into a Pandas DataFrame and displays its first 5 rows.\n",
        "\n",
        "  Args:\n",
        "    csv_file_path: The path to the CSV file.\n",
        "  \"\"\"\n",
        "  try:\n",
        "    df = pd.read_csv(csv_file_path)\n",
        "    print(\"First 5 rows of the CSV file:\")\n",
        "    print(df.head())  # df.head() displays the first 5 rows by default.\n",
        "\n",
        "  except FileNotFoundError:\n",
        "    print(f\"Error: File not found at '{csv_file_path}'\")\n",
        "  except Exception as e:\n",
        "      print(f\"An error occurred: {e}\")\n",
        "\n",
        "# Example Usage:\n",
        "csv_file = 'my_data.csv' # Replace with your csv file's path.\n",
        "\n",
        "#Create a dummy csv for demonstration.\n",
        "dummy_data = {'col1': [1, 2, 3, 4, 5, 6], 'col2': ['a', 'b', 'c', 'd', 'e', 'f']}\n",
        "dummy_df = pd.DataFrame(dummy_data)\n",
        "dummy_df.to_csv(csv_file, index=False)\n",
        "\n",
        "display_first_5_rows(csv_file)\n",
        "\n",
        "#Example with a non-existant file.\n",
        "display_first_5_rows('non_existant_file.csv')"
      ],
      "metadata": {
        "colab": {
          "base_uri": "https://localhost:8080/"
        },
        "id": "cBCxhi8jcQK5",
        "outputId": "36aaf766-ec15-40f4-da75-0194e39430fb"
      },
      "execution_count": 12,
      "outputs": [
        {
          "output_type": "stream",
          "name": "stdout",
          "text": [
            "First 5 rows of the CSV file:\n",
            "   col1 col2\n",
            "0     1    a\n",
            "1     2    b\n",
            "2     3    c\n",
            "3     4    d\n",
            "4     5    e\n",
            "Error: File not found at 'non_existant_file.csv'\n"
          ]
        }
      ]
    },
    {
      "cell_type": "markdown",
      "source": [
        "**13. Create a 3D scatter plot using Plotly.**"
      ],
      "metadata": {
        "id": "kgV22XAJcSCp"
      }
    },
    {
      "cell_type": "code",
      "source": [
        "import plotly.graph_objects as go\n",
        "import numpy as np\n",
        "\n",
        "# Generate sample 3D data\n",
        "np.random.seed(42)  # For reproducibility\n",
        "n_points = 100\n",
        "x = np.random.randn(n_points)\n",
        "y = np.random.randn(n_points)\n",
        "z = np.random.randn(n_points)\n",
        "\n",
        "# Create the 3D scatter plot\n",
        "fig = go.Figure(data=[go.Scatter3d(\n",
        "    x=x,\n",
        "    y=y,\n",
        "    z=z,\n",
        "    mode='markers',\n",
        "    marker=dict(\n",
        "        size=5,\n",
        "        color=z,  # Color points based on z-value\n",
        "        colorscale='Viridis',  # Choose a colorscale\n",
        "        opacity=0.8\n",
        "    )\n",
        ")])\n",
        "\n",
        "# Add title and axis labels\n",
        "fig.update_layout(\n",
        "    title='3D Scatter Plot',\n",
        "    scene=dict(\n",
        "        xaxis=dict(title='X-axis'),\n",
        "        yaxis=dict(title='Y-axis'),\n",
        "        zaxis=dict(title='Z-axis'),\n",
        "    )\n",
        ")\n",
        "\n",
        "# Display the plot\n",
        "fig.show()\n",
        "\n",
        "#Example with a different color scheme and size.\n",
        "fig2 = go.Figure(data=[go.Scatter3d(\n",
        "    x=x,\n",
        "    y=y,\n",
        "    z=z,\n",
        "    mode='markers',\n",
        "    marker=dict(\n",
        "        size=8,\n",
        "        color=x,\n",
        "        colorscale='Plasma',\n",
        "        opacity=0.9\n",
        "    )\n",
        ")])\n",
        "\n",
        "fig2.update_layout(\n",
        "    title='3D Scatter Plot 2',\n",
        "    scene=dict(\n",
        "        xaxis=dict(title='X-axis'),\n",
        "        yaxis=dict(title='Y-axis'),\n",
        "        zaxis=dict(title='Z-axis'),\n",
        "    )\n",
        ")\n",
        "\n",
        "fig2.show()"
      ],
      "metadata": {
        "colab": {
          "base_uri": "https://localhost:8080/",
          "height": 1000
        },
        "id": "9os9rEIXccvc",
        "outputId": "792c0c62-4687-41f2-843d-dde7f5aca34b"
      },
      "execution_count": 13,
      "outputs": [
        {
          "output_type": "display_data",
          "data": {
            "text/html": [
              "<html>\n",
              "<head><meta charset=\"utf-8\" /></head>\n",
              "<body>\n",
              "    <div>            <script src=\"https://cdnjs.cloudflare.com/ajax/libs/mathjax/2.7.5/MathJax.js?config=TeX-AMS-MML_SVG\"></script><script type=\"text/javascript\">if (window.MathJax && window.MathJax.Hub && window.MathJax.Hub.Config) {window.MathJax.Hub.Config({SVG: {font: \"STIX-Web\"}});}</script>                <script type=\"text/javascript\">window.PlotlyConfig = {MathJaxConfig: 'local'};</script>\n",
              "        <script charset=\"utf-8\" src=\"https://cdn.plot.ly/plotly-2.35.2.min.js\"></script>                <div id=\"a6d6606e-687b-4e7c-a705-0a0d73a70675\" class=\"plotly-graph-div\" style=\"height:525px; width:100%;\"></div>            <script type=\"text/javascript\">                                    window.PLOTLYENV=window.PLOTLYENV || {};                                    if (document.getElementById(\"a6d6606e-687b-4e7c-a705-0a0d73a70675\")) {                    Plotly.newPlot(                        \"a6d6606e-687b-4e7c-a705-0a0d73a70675\",                        [{\"marker\":{\"color\":[0.3577873603482833,0.5607845263682344,1.083051243175277,1.053802052034903,-1.377669367957091,-0.9378250399151228,0.5150352672086598,0.5137859509122088,0.5150476863060479,3.852731490654721,0.570890510693167,1.135565640180599,0.9540017634932023,0.651391251305798,-0.3152692446403456,0.7589692204932674,-0.7728252145375718,-0.23681860674000887,-0.48536354782910346,0.08187413938632256,2.3146585666735087,-1.867265192591748,0.6862601903745135,-1.6127158711896517,-0.47193186578943347,1.088950596967366,0.06428001909546277,-1.0777447779293061,-0.7153037092599682,0.6795977489346758,-0.7303666317171367,0.21645858958197486,0.045571839903813784,-0.6516003476058171,2.1439440893253257,0.6339190223180112,-2.025142586657607,0.18645431476942764,-0.661786464768388,0.852433334796224,-0.7925207384327007,-0.11473644146689901,0.5049872789804571,0.8657551941701215,-1.2002964070557762,-0.3345012358409484,-0.4749453111609562,-0.6533292325737119,1.7654542402810969,0.40498171096095553,-1.2608839543350452,0.9178619470547761,2.1221561970126332,1.0324652605511468,-1.5193699659540134,-0.48423407286625136,1.2669111491866227,-0.7076694656187807,0.44381942814622843,0.7746340534293368,-0.926930471578083,-0.05952535606180008,-3.2412673400690726,-1.0243876413342898,-0.2525681513931603,-1.2477831819648495,1.6324113039316352,-1.4301413779606327,-0.44004448669698376,0.13074057728609134,1.4412732890661155,-1.4358621511794394,1.1631637521549596,0.010233061019587049,-0.9815086510479509,0.46210347426327075,0.19905969557347003,-0.6002168771587947,0.06980208499001891,-0.3853135968617602,0.11351734525124804,0.6621306745210467,1.586016816145352,-1.237815498826849,2.1330333746562666,-1.9520877995225019,-0.15178509503558332,0.5883172064845765,0.28099186773503265,-0.6226995198205938,-0.20812225035727522,-0.4930009346588328,-0.5893647569442115,0.8496020970210246,0.35701548596504734,-0.6929095952606542,0.8995998754332507,0.30729952087660933,0.8128621188389601,0.6296288419236122],\"colorscale\":[[0.0,\"#440154\"],[0.1111111111111111,\"#482878\"],[0.2222222222222222,\"#3e4989\"],[0.3333333333333333,\"#31688e\"],[0.4444444444444444,\"#26828e\"],[0.5555555555555556,\"#1f9e89\"],[0.6666666666666666,\"#35b779\"],[0.7777777777777778,\"#6ece58\"],[0.8888888888888888,\"#b5de2b\"],[1.0,\"#fde725\"]],\"opacity\":0.8,\"size\":5},\"mode\":\"markers\",\"x\":[0.4967141530112327,-0.13826430117118466,0.6476885381006925,1.5230298564080254,-0.23415337472333597,-0.23413695694918055,1.5792128155073915,0.7674347291529088,-0.4694743859349521,0.5425600435859647,-0.46341769281246226,-0.46572975357025687,0.24196227156603412,-1.913280244657798,-1.7249178325130328,-0.5622875292409727,-1.0128311203344238,0.3142473325952739,-0.9080240755212109,-1.4123037013352915,1.465648768921554,-0.22577630048653566,0.06752820468792384,-1.4247481862134568,-0.5443827245251827,0.11092258970986608,-1.1509935774223028,0.37569801834567196,-0.600638689918805,-0.2916937497932768,-0.6017066122293969,1.8522781845089378,-0.013497224737933921,-1.0577109289559004,0.822544912103189,-1.2208436499710222,0.2088635950047554,-1.9596701238797756,-1.3281860488984305,0.19686123586912352,0.7384665799954104,0.1713682811899705,-0.11564828238824053,-0.3011036955892888,-1.4785219903674274,-0.7198442083947086,-0.4606387709597875,1.0571222262189157,0.3436182895684614,-1.763040155362734,0.324083969394795,-0.38508228041631654,-0.6769220003059587,0.6116762888408679,1.030999522495951,0.9312801191161986,-0.8392175232226385,-0.3092123758512146,0.33126343140356396,0.9755451271223592,-0.47917423784528995,-0.18565897666381712,-1.1063349740060282,-1.1962066240806708,0.812525822394198,1.356240028570823,-0.07201012158033385,1.0035328978920242,0.36163602504763415,-0.6451197546051243,0.36139560550841393,1.5380365664659692,-0.03582603910995154,1.5646436558140062,-2.6197451040897444,0.8219025043752238,0.08704706823817122,-0.29900735046586746,0.0917607765355023,-1.9875689146008928,-0.21967188783751193,0.3571125715117464,1.477894044741516,-0.5182702182736474,-0.8084936028931876,-0.5017570435845365,0.9154021177020741,0.32875110965968446,-0.5297602037670388,0.5132674331133561,0.09707754934804039,0.9686449905328892,-0.7020530938773524,-0.3276621465977682,-0.39210815313215763,-1.4635149481321186,0.29612027706457605,0.26105527217988933,0.00511345664246089,-0.23458713337514692],\"y\":[-1.4153707420504142,-0.42064532276535904,-0.3427145165267695,-0.8022772692216189,-0.16128571166600914,0.4040508568145384,1.8861859012105302,0.17457781283183896,0.25755039072276437,-0.07444591576616721,-1.9187712152990415,-0.026513875449216878,0.06023020994102644,2.463242112485286,-0.19236096478112252,0.30154734233361247,-0.03471176970524331,-1.168678037619532,1.1428228145150205,0.7519330326867741,0.7910319470430469,-0.9093874547947389,1.4027943109360992,-1.4018510627922809,0.5868570938002703,2.1904556258099785,-0.9905363251306883,-0.5662977296027719,0.09965136508764122,-0.5034756541161992,-1.5506634310661327,0.06856297480602733,-1.0623037137261049,0.4735924306351816,-0.9194242342338032,1.5499344050175394,-0.7832532923362371,-0.3220615162056756,0.8135172173696698,-1.2308643164339552,0.22745993460412942,1.307142754282428,-1.6074832345612275,0.1846338585323042,0.25988279424842353,0.7818228717773104,-1.236950710878082,-1.3204566130842763,0.5219415656168976,0.29698467323318606,0.25049285034587654,0.3464482094969757,-0.6800247215784908,0.23225369716100355,0.29307247329868125,-0.7143514180263678,1.8657745111447566,0.4738329209117875,-1.1913034972026486,0.6565536086338297,-0.9746816702273214,0.787084603742452,1.158595579007404,-0.8206823183517105,0.9633761292443218,0.4127809269364983,0.82206015999449,1.8967929826539474,-0.2453881160028705,-0.7537361643574896,-0.8895144296255233,-0.8158102849654383,-0.0771017094141042,0.3411519748166439,0.27669079933001905,0.8271832490360238,0.01300189187790702,1.4535340771573169,-0.2646568332379561,2.720169166589619,0.6256673477650062,-0.8571575564162826,-1.0708924980611123,0.4824724152431853,-0.2234627853258509,0.714000494092092,0.47323762457354485,-0.07282891265687277,-0.846793718068405,-1.5148472246858646,-0.4465149520670211,0.8563987943234723,0.21409374413020396,-1.245738778711988,0.173180925851182,0.3853173797288368,-0.883857436201133,0.1537251059455279,0.058208718445999896,-1.142970297830623],\"z\":[0.3577873603482833,0.5607845263682344,1.083051243175277,1.053802052034903,-1.377669367957091,-0.9378250399151228,0.5150352672086598,0.5137859509122088,0.5150476863060479,3.852731490654721,0.570890510693167,1.135565640180599,0.9540017634932023,0.651391251305798,-0.3152692446403456,0.7589692204932674,-0.7728252145375718,-0.23681860674000887,-0.48536354782910346,0.08187413938632256,2.3146585666735087,-1.867265192591748,0.6862601903745135,-1.6127158711896517,-0.47193186578943347,1.088950596967366,0.06428001909546277,-1.0777447779293061,-0.7153037092599682,0.6795977489346758,-0.7303666317171367,0.21645858958197486,0.045571839903813784,-0.6516003476058171,2.1439440893253257,0.6339190223180112,-2.025142586657607,0.18645431476942764,-0.661786464768388,0.852433334796224,-0.7925207384327007,-0.11473644146689901,0.5049872789804571,0.8657551941701215,-1.2002964070557762,-0.3345012358409484,-0.4749453111609562,-0.6533292325737119,1.7654542402810969,0.40498171096095553,-1.2608839543350452,0.9178619470547761,2.1221561970126332,1.0324652605511468,-1.5193699659540134,-0.48423407286625136,1.2669111491866227,-0.7076694656187807,0.44381942814622843,0.7746340534293368,-0.926930471578083,-0.05952535606180008,-3.2412673400690726,-1.0243876413342898,-0.2525681513931603,-1.2477831819648495,1.6324113039316352,-1.4301413779606327,-0.44004448669698376,0.13074057728609134,1.4412732890661155,-1.4358621511794394,1.1631637521549596,0.010233061019587049,-0.9815086510479509,0.46210347426327075,0.19905969557347003,-0.6002168771587947,0.06980208499001891,-0.3853135968617602,0.11351734525124804,0.6621306745210467,1.586016816145352,-1.237815498826849,2.1330333746562666,-1.9520877995225019,-0.15178509503558332,0.5883172064845765,0.28099186773503265,-0.6226995198205938,-0.20812225035727522,-0.4930009346588328,-0.5893647569442115,0.8496020970210246,0.35701548596504734,-0.6929095952606542,0.8995998754332507,0.30729952087660933,0.8128621188389601,0.6296288419236122],\"type\":\"scatter3d\"}],                        {\"template\":{\"data\":{\"histogram2dcontour\":[{\"type\":\"histogram2dcontour\",\"colorbar\":{\"outlinewidth\":0,\"ticks\":\"\"},\"colorscale\":[[0.0,\"#0d0887\"],[0.1111111111111111,\"#46039f\"],[0.2222222222222222,\"#7201a8\"],[0.3333333333333333,\"#9c179e\"],[0.4444444444444444,\"#bd3786\"],[0.5555555555555556,\"#d8576b\"],[0.6666666666666666,\"#ed7953\"],[0.7777777777777778,\"#fb9f3a\"],[0.8888888888888888,\"#fdca26\"],[1.0,\"#f0f921\"]]}],\"choropleth\":[{\"type\":\"choropleth\",\"colorbar\":{\"outlinewidth\":0,\"ticks\":\"\"}}],\"histogram2d\":[{\"type\":\"histogram2d\",\"colorbar\":{\"outlinewidth\":0,\"ticks\":\"\"},\"colorscale\":[[0.0,\"#0d0887\"],[0.1111111111111111,\"#46039f\"],[0.2222222222222222,\"#7201a8\"],[0.3333333333333333,\"#9c179e\"],[0.4444444444444444,\"#bd3786\"],[0.5555555555555556,\"#d8576b\"],[0.6666666666666666,\"#ed7953\"],[0.7777777777777778,\"#fb9f3a\"],[0.8888888888888888,\"#fdca26\"],[1.0,\"#f0f921\"]]}],\"heatmap\":[{\"type\":\"heatmap\",\"colorbar\":{\"outlinewidth\":0,\"ticks\":\"\"},\"colorscale\":[[0.0,\"#0d0887\"],[0.1111111111111111,\"#46039f\"],[0.2222222222222222,\"#7201a8\"],[0.3333333333333333,\"#9c179e\"],[0.4444444444444444,\"#bd3786\"],[0.5555555555555556,\"#d8576b\"],[0.6666666666666666,\"#ed7953\"],[0.7777777777777778,\"#fb9f3a\"],[0.8888888888888888,\"#fdca26\"],[1.0,\"#f0f921\"]]}],\"heatmapgl\":[{\"type\":\"heatmapgl\",\"colorbar\":{\"outlinewidth\":0,\"ticks\":\"\"},\"colorscale\":[[0.0,\"#0d0887\"],[0.1111111111111111,\"#46039f\"],[0.2222222222222222,\"#7201a8\"],[0.3333333333333333,\"#9c179e\"],[0.4444444444444444,\"#bd3786\"],[0.5555555555555556,\"#d8576b\"],[0.6666666666666666,\"#ed7953\"],[0.7777777777777778,\"#fb9f3a\"],[0.8888888888888888,\"#fdca26\"],[1.0,\"#f0f921\"]]}],\"contourcarpet\":[{\"type\":\"contourcarpet\",\"colorbar\":{\"outlinewidth\":0,\"ticks\":\"\"}}],\"contour\":[{\"type\":\"contour\",\"colorbar\":{\"outlinewidth\":0,\"ticks\":\"\"},\"colorscale\":[[0.0,\"#0d0887\"],[0.1111111111111111,\"#46039f\"],[0.2222222222222222,\"#7201a8\"],[0.3333333333333333,\"#9c179e\"],[0.4444444444444444,\"#bd3786\"],[0.5555555555555556,\"#d8576b\"],[0.6666666666666666,\"#ed7953\"],[0.7777777777777778,\"#fb9f3a\"],[0.8888888888888888,\"#fdca26\"],[1.0,\"#f0f921\"]]}],\"surface\":[{\"type\":\"surface\",\"colorbar\":{\"outlinewidth\":0,\"ticks\":\"\"},\"colorscale\":[[0.0,\"#0d0887\"],[0.1111111111111111,\"#46039f\"],[0.2222222222222222,\"#7201a8\"],[0.3333333333333333,\"#9c179e\"],[0.4444444444444444,\"#bd3786\"],[0.5555555555555556,\"#d8576b\"],[0.6666666666666666,\"#ed7953\"],[0.7777777777777778,\"#fb9f3a\"],[0.8888888888888888,\"#fdca26\"],[1.0,\"#f0f921\"]]}],\"mesh3d\":[{\"type\":\"mesh3d\",\"colorbar\":{\"outlinewidth\":0,\"ticks\":\"\"}}],\"scatter\":[{\"fillpattern\":{\"fillmode\":\"overlay\",\"size\":10,\"solidity\":0.2},\"type\":\"scatter\"}],\"parcoords\":[{\"type\":\"parcoords\",\"line\":{\"colorbar\":{\"outlinewidth\":0,\"ticks\":\"\"}}}],\"scatterpolargl\":[{\"type\":\"scatterpolargl\",\"marker\":{\"colorbar\":{\"outlinewidth\":0,\"ticks\":\"\"}}}],\"bar\":[{\"error_x\":{\"color\":\"#2a3f5f\"},\"error_y\":{\"color\":\"#2a3f5f\"},\"marker\":{\"line\":{\"color\":\"#E5ECF6\",\"width\":0.5},\"pattern\":{\"fillmode\":\"overlay\",\"size\":10,\"solidity\":0.2}},\"type\":\"bar\"}],\"scattergeo\":[{\"type\":\"scattergeo\",\"marker\":{\"colorbar\":{\"outlinewidth\":0,\"ticks\":\"\"}}}],\"scatterpolar\":[{\"type\":\"scatterpolar\",\"marker\":{\"colorbar\":{\"outlinewidth\":0,\"ticks\":\"\"}}}],\"histogram\":[{\"marker\":{\"pattern\":{\"fillmode\":\"overlay\",\"size\":10,\"solidity\":0.2}},\"type\":\"histogram\"}],\"scattergl\":[{\"type\":\"scattergl\",\"marker\":{\"colorbar\":{\"outlinewidth\":0,\"ticks\":\"\"}}}],\"scatter3d\":[{\"type\":\"scatter3d\",\"line\":{\"colorbar\":{\"outlinewidth\":0,\"ticks\":\"\"}},\"marker\":{\"colorbar\":{\"outlinewidth\":0,\"ticks\":\"\"}}}],\"scattermapbox\":[{\"type\":\"scattermapbox\",\"marker\":{\"colorbar\":{\"outlinewidth\":0,\"ticks\":\"\"}}}],\"scatterternary\":[{\"type\":\"scatterternary\",\"marker\":{\"colorbar\":{\"outlinewidth\":0,\"ticks\":\"\"}}}],\"scattercarpet\":[{\"type\":\"scattercarpet\",\"marker\":{\"colorbar\":{\"outlinewidth\":0,\"ticks\":\"\"}}}],\"carpet\":[{\"aaxis\":{\"endlinecolor\":\"#2a3f5f\",\"gridcolor\":\"white\",\"linecolor\":\"white\",\"minorgridcolor\":\"white\",\"startlinecolor\":\"#2a3f5f\"},\"baxis\":{\"endlinecolor\":\"#2a3f5f\",\"gridcolor\":\"white\",\"linecolor\":\"white\",\"minorgridcolor\":\"white\",\"startlinecolor\":\"#2a3f5f\"},\"type\":\"carpet\"}],\"table\":[{\"cells\":{\"fill\":{\"color\":\"#EBF0F8\"},\"line\":{\"color\":\"white\"}},\"header\":{\"fill\":{\"color\":\"#C8D4E3\"},\"line\":{\"color\":\"white\"}},\"type\":\"table\"}],\"barpolar\":[{\"marker\":{\"line\":{\"color\":\"#E5ECF6\",\"width\":0.5},\"pattern\":{\"fillmode\":\"overlay\",\"size\":10,\"solidity\":0.2}},\"type\":\"barpolar\"}],\"pie\":[{\"automargin\":true,\"type\":\"pie\"}]},\"layout\":{\"autotypenumbers\":\"strict\",\"colorway\":[\"#636efa\",\"#EF553B\",\"#00cc96\",\"#ab63fa\",\"#FFA15A\",\"#19d3f3\",\"#FF6692\",\"#B6E880\",\"#FF97FF\",\"#FECB52\"],\"font\":{\"color\":\"#2a3f5f\"},\"hovermode\":\"closest\",\"hoverlabel\":{\"align\":\"left\"},\"paper_bgcolor\":\"white\",\"plot_bgcolor\":\"#E5ECF6\",\"polar\":{\"bgcolor\":\"#E5ECF6\",\"angularaxis\":{\"gridcolor\":\"white\",\"linecolor\":\"white\",\"ticks\":\"\"},\"radialaxis\":{\"gridcolor\":\"white\",\"linecolor\":\"white\",\"ticks\":\"\"}},\"ternary\":{\"bgcolor\":\"#E5ECF6\",\"aaxis\":{\"gridcolor\":\"white\",\"linecolor\":\"white\",\"ticks\":\"\"},\"baxis\":{\"gridcolor\":\"white\",\"linecolor\":\"white\",\"ticks\":\"\"},\"caxis\":{\"gridcolor\":\"white\",\"linecolor\":\"white\",\"ticks\":\"\"}},\"coloraxis\":{\"colorbar\":{\"outlinewidth\":0,\"ticks\":\"\"}},\"colorscale\":{\"sequential\":[[0.0,\"#0d0887\"],[0.1111111111111111,\"#46039f\"],[0.2222222222222222,\"#7201a8\"],[0.3333333333333333,\"#9c179e\"],[0.4444444444444444,\"#bd3786\"],[0.5555555555555556,\"#d8576b\"],[0.6666666666666666,\"#ed7953\"],[0.7777777777777778,\"#fb9f3a\"],[0.8888888888888888,\"#fdca26\"],[1.0,\"#f0f921\"]],\"sequentialminus\":[[0.0,\"#0d0887\"],[0.1111111111111111,\"#46039f\"],[0.2222222222222222,\"#7201a8\"],[0.3333333333333333,\"#9c179e\"],[0.4444444444444444,\"#bd3786\"],[0.5555555555555556,\"#d8576b\"],[0.6666666666666666,\"#ed7953\"],[0.7777777777777778,\"#fb9f3a\"],[0.8888888888888888,\"#fdca26\"],[1.0,\"#f0f921\"]],\"diverging\":[[0,\"#8e0152\"],[0.1,\"#c51b7d\"],[0.2,\"#de77ae\"],[0.3,\"#f1b6da\"],[0.4,\"#fde0ef\"],[0.5,\"#f7f7f7\"],[0.6,\"#e6f5d0\"],[0.7,\"#b8e186\"],[0.8,\"#7fbc41\"],[0.9,\"#4d9221\"],[1,\"#276419\"]]},\"xaxis\":{\"gridcolor\":\"white\",\"linecolor\":\"white\",\"ticks\":\"\",\"title\":{\"standoff\":15},\"zerolinecolor\":\"white\",\"automargin\":true,\"zerolinewidth\":2},\"yaxis\":{\"gridcolor\":\"white\",\"linecolor\":\"white\",\"ticks\":\"\",\"title\":{\"standoff\":15},\"zerolinecolor\":\"white\",\"automargin\":true,\"zerolinewidth\":2},\"scene\":{\"xaxis\":{\"backgroundcolor\":\"#E5ECF6\",\"gridcolor\":\"white\",\"linecolor\":\"white\",\"showbackground\":true,\"ticks\":\"\",\"zerolinecolor\":\"white\",\"gridwidth\":2},\"yaxis\":{\"backgroundcolor\":\"#E5ECF6\",\"gridcolor\":\"white\",\"linecolor\":\"white\",\"showbackground\":true,\"ticks\":\"\",\"zerolinecolor\":\"white\",\"gridwidth\":2},\"zaxis\":{\"backgroundcolor\":\"#E5ECF6\",\"gridcolor\":\"white\",\"linecolor\":\"white\",\"showbackground\":true,\"ticks\":\"\",\"zerolinecolor\":\"white\",\"gridwidth\":2}},\"shapedefaults\":{\"line\":{\"color\":\"#2a3f5f\"}},\"annotationdefaults\":{\"arrowcolor\":\"#2a3f5f\",\"arrowhead\":0,\"arrowwidth\":1},\"geo\":{\"bgcolor\":\"white\",\"landcolor\":\"#E5ECF6\",\"subunitcolor\":\"white\",\"showland\":true,\"showlakes\":true,\"lakecolor\":\"white\"},\"title\":{\"x\":0.05},\"mapbox\":{\"style\":\"light\"}}},\"title\":{\"text\":\"3D Scatter Plot\"},\"scene\":{\"xaxis\":{\"title\":{\"text\":\"X-axis\"}},\"yaxis\":{\"title\":{\"text\":\"Y-axis\"}},\"zaxis\":{\"title\":{\"text\":\"Z-axis\"}}}},                        {\"responsive\": true}                    ).then(function(){\n",
              "                            \n",
              "var gd = document.getElementById('a6d6606e-687b-4e7c-a705-0a0d73a70675');\n",
              "var x = new MutationObserver(function (mutations, observer) {{\n",
              "        var display = window.getComputedStyle(gd).display;\n",
              "        if (!display || display === 'none') {{\n",
              "            console.log([gd, 'removed!']);\n",
              "            Plotly.purge(gd);\n",
              "            observer.disconnect();\n",
              "        }}\n",
              "}});\n",
              "\n",
              "// Listen for the removal of the full notebook cells\n",
              "var notebookContainer = gd.closest('#notebook-container');\n",
              "if (notebookContainer) {{\n",
              "    x.observe(notebookContainer, {childList: true});\n",
              "}}\n",
              "\n",
              "// Listen for the clearing of the current output cell\n",
              "var outputEl = gd.closest('.output');\n",
              "if (outputEl) {{\n",
              "    x.observe(outputEl, {childList: true});\n",
              "}}\n",
              "\n",
              "                        })                };                            </script>        </div>\n",
              "</body>\n",
              "</html>"
            ]
          },
          "metadata": {}
        },
        {
          "output_type": "display_data",
          "data": {
            "text/html": [
              "<html>\n",
              "<head><meta charset=\"utf-8\" /></head>\n",
              "<body>\n",
              "    <div>            <script src=\"https://cdnjs.cloudflare.com/ajax/libs/mathjax/2.7.5/MathJax.js?config=TeX-AMS-MML_SVG\"></script><script type=\"text/javascript\">if (window.MathJax && window.MathJax.Hub && window.MathJax.Hub.Config) {window.MathJax.Hub.Config({SVG: {font: \"STIX-Web\"}});}</script>                <script type=\"text/javascript\">window.PlotlyConfig = {MathJaxConfig: 'local'};</script>\n",
              "        <script charset=\"utf-8\" src=\"https://cdn.plot.ly/plotly-2.35.2.min.js\"></script>                <div id=\"139077e3-c424-4619-af0d-169ef13c3429\" class=\"plotly-graph-div\" style=\"height:525px; width:100%;\"></div>            <script type=\"text/javascript\">                                    window.PLOTLYENV=window.PLOTLYENV || {};                                    if (document.getElementById(\"139077e3-c424-4619-af0d-169ef13c3429\")) {                    Plotly.newPlot(                        \"139077e3-c424-4619-af0d-169ef13c3429\",                        [{\"marker\":{\"color\":[0.4967141530112327,-0.13826430117118466,0.6476885381006925,1.5230298564080254,-0.23415337472333597,-0.23413695694918055,1.5792128155073915,0.7674347291529088,-0.4694743859349521,0.5425600435859647,-0.46341769281246226,-0.46572975357025687,0.24196227156603412,-1.913280244657798,-1.7249178325130328,-0.5622875292409727,-1.0128311203344238,0.3142473325952739,-0.9080240755212109,-1.4123037013352915,1.465648768921554,-0.22577630048653566,0.06752820468792384,-1.4247481862134568,-0.5443827245251827,0.11092258970986608,-1.1509935774223028,0.37569801834567196,-0.600638689918805,-0.2916937497932768,-0.6017066122293969,1.8522781845089378,-0.013497224737933921,-1.0577109289559004,0.822544912103189,-1.2208436499710222,0.2088635950047554,-1.9596701238797756,-1.3281860488984305,0.19686123586912352,0.7384665799954104,0.1713682811899705,-0.11564828238824053,-0.3011036955892888,-1.4785219903674274,-0.7198442083947086,-0.4606387709597875,1.0571222262189157,0.3436182895684614,-1.763040155362734,0.324083969394795,-0.38508228041631654,-0.6769220003059587,0.6116762888408679,1.030999522495951,0.9312801191161986,-0.8392175232226385,-0.3092123758512146,0.33126343140356396,0.9755451271223592,-0.47917423784528995,-0.18565897666381712,-1.1063349740060282,-1.1962066240806708,0.812525822394198,1.356240028570823,-0.07201012158033385,1.0035328978920242,0.36163602504763415,-0.6451197546051243,0.36139560550841393,1.5380365664659692,-0.03582603910995154,1.5646436558140062,-2.6197451040897444,0.8219025043752238,0.08704706823817122,-0.29900735046586746,0.0917607765355023,-1.9875689146008928,-0.21967188783751193,0.3571125715117464,1.477894044741516,-0.5182702182736474,-0.8084936028931876,-0.5017570435845365,0.9154021177020741,0.32875110965968446,-0.5297602037670388,0.5132674331133561,0.09707754934804039,0.9686449905328892,-0.7020530938773524,-0.3276621465977682,-0.39210815313215763,-1.4635149481321186,0.29612027706457605,0.26105527217988933,0.00511345664246089,-0.23458713337514692],\"colorscale\":[[0.0,\"#0d0887\"],[0.1111111111111111,\"#46039f\"],[0.2222222222222222,\"#7201a8\"],[0.3333333333333333,\"#9c179e\"],[0.4444444444444444,\"#bd3786\"],[0.5555555555555556,\"#d8576b\"],[0.6666666666666666,\"#ed7953\"],[0.7777777777777778,\"#fb9f3a\"],[0.8888888888888888,\"#fdca26\"],[1.0,\"#f0f921\"]],\"opacity\":0.9,\"size\":8},\"mode\":\"markers\",\"x\":[0.4967141530112327,-0.13826430117118466,0.6476885381006925,1.5230298564080254,-0.23415337472333597,-0.23413695694918055,1.5792128155073915,0.7674347291529088,-0.4694743859349521,0.5425600435859647,-0.46341769281246226,-0.46572975357025687,0.24196227156603412,-1.913280244657798,-1.7249178325130328,-0.5622875292409727,-1.0128311203344238,0.3142473325952739,-0.9080240755212109,-1.4123037013352915,1.465648768921554,-0.22577630048653566,0.06752820468792384,-1.4247481862134568,-0.5443827245251827,0.11092258970986608,-1.1509935774223028,0.37569801834567196,-0.600638689918805,-0.2916937497932768,-0.6017066122293969,1.8522781845089378,-0.013497224737933921,-1.0577109289559004,0.822544912103189,-1.2208436499710222,0.2088635950047554,-1.9596701238797756,-1.3281860488984305,0.19686123586912352,0.7384665799954104,0.1713682811899705,-0.11564828238824053,-0.3011036955892888,-1.4785219903674274,-0.7198442083947086,-0.4606387709597875,1.0571222262189157,0.3436182895684614,-1.763040155362734,0.324083969394795,-0.38508228041631654,-0.6769220003059587,0.6116762888408679,1.030999522495951,0.9312801191161986,-0.8392175232226385,-0.3092123758512146,0.33126343140356396,0.9755451271223592,-0.47917423784528995,-0.18565897666381712,-1.1063349740060282,-1.1962066240806708,0.812525822394198,1.356240028570823,-0.07201012158033385,1.0035328978920242,0.36163602504763415,-0.6451197546051243,0.36139560550841393,1.5380365664659692,-0.03582603910995154,1.5646436558140062,-2.6197451040897444,0.8219025043752238,0.08704706823817122,-0.29900735046586746,0.0917607765355023,-1.9875689146008928,-0.21967188783751193,0.3571125715117464,1.477894044741516,-0.5182702182736474,-0.8084936028931876,-0.5017570435845365,0.9154021177020741,0.32875110965968446,-0.5297602037670388,0.5132674331133561,0.09707754934804039,0.9686449905328892,-0.7020530938773524,-0.3276621465977682,-0.39210815313215763,-1.4635149481321186,0.29612027706457605,0.26105527217988933,0.00511345664246089,-0.23458713337514692],\"y\":[-1.4153707420504142,-0.42064532276535904,-0.3427145165267695,-0.8022772692216189,-0.16128571166600914,0.4040508568145384,1.8861859012105302,0.17457781283183896,0.25755039072276437,-0.07444591576616721,-1.9187712152990415,-0.026513875449216878,0.06023020994102644,2.463242112485286,-0.19236096478112252,0.30154734233361247,-0.03471176970524331,-1.168678037619532,1.1428228145150205,0.7519330326867741,0.7910319470430469,-0.9093874547947389,1.4027943109360992,-1.4018510627922809,0.5868570938002703,2.1904556258099785,-0.9905363251306883,-0.5662977296027719,0.09965136508764122,-0.5034756541161992,-1.5506634310661327,0.06856297480602733,-1.0623037137261049,0.4735924306351816,-0.9194242342338032,1.5499344050175394,-0.7832532923362371,-0.3220615162056756,0.8135172173696698,-1.2308643164339552,0.22745993460412942,1.307142754282428,-1.6074832345612275,0.1846338585323042,0.25988279424842353,0.7818228717773104,-1.236950710878082,-1.3204566130842763,0.5219415656168976,0.29698467323318606,0.25049285034587654,0.3464482094969757,-0.6800247215784908,0.23225369716100355,0.29307247329868125,-0.7143514180263678,1.8657745111447566,0.4738329209117875,-1.1913034972026486,0.6565536086338297,-0.9746816702273214,0.787084603742452,1.158595579007404,-0.8206823183517105,0.9633761292443218,0.4127809269364983,0.82206015999449,1.8967929826539474,-0.2453881160028705,-0.7537361643574896,-0.8895144296255233,-0.8158102849654383,-0.0771017094141042,0.3411519748166439,0.27669079933001905,0.8271832490360238,0.01300189187790702,1.4535340771573169,-0.2646568332379561,2.720169166589619,0.6256673477650062,-0.8571575564162826,-1.0708924980611123,0.4824724152431853,-0.2234627853258509,0.714000494092092,0.47323762457354485,-0.07282891265687277,-0.846793718068405,-1.5148472246858646,-0.4465149520670211,0.8563987943234723,0.21409374413020396,-1.245738778711988,0.173180925851182,0.3853173797288368,-0.883857436201133,0.1537251059455279,0.058208718445999896,-1.142970297830623],\"z\":[0.3577873603482833,0.5607845263682344,1.083051243175277,1.053802052034903,-1.377669367957091,-0.9378250399151228,0.5150352672086598,0.5137859509122088,0.5150476863060479,3.852731490654721,0.570890510693167,1.135565640180599,0.9540017634932023,0.651391251305798,-0.3152692446403456,0.7589692204932674,-0.7728252145375718,-0.23681860674000887,-0.48536354782910346,0.08187413938632256,2.3146585666735087,-1.867265192591748,0.6862601903745135,-1.6127158711896517,-0.47193186578943347,1.088950596967366,0.06428001909546277,-1.0777447779293061,-0.7153037092599682,0.6795977489346758,-0.7303666317171367,0.21645858958197486,0.045571839903813784,-0.6516003476058171,2.1439440893253257,0.6339190223180112,-2.025142586657607,0.18645431476942764,-0.661786464768388,0.852433334796224,-0.7925207384327007,-0.11473644146689901,0.5049872789804571,0.8657551941701215,-1.2002964070557762,-0.3345012358409484,-0.4749453111609562,-0.6533292325737119,1.7654542402810969,0.40498171096095553,-1.2608839543350452,0.9178619470547761,2.1221561970126332,1.0324652605511468,-1.5193699659540134,-0.48423407286625136,1.2669111491866227,-0.7076694656187807,0.44381942814622843,0.7746340534293368,-0.926930471578083,-0.05952535606180008,-3.2412673400690726,-1.0243876413342898,-0.2525681513931603,-1.2477831819648495,1.6324113039316352,-1.4301413779606327,-0.44004448669698376,0.13074057728609134,1.4412732890661155,-1.4358621511794394,1.1631637521549596,0.010233061019587049,-0.9815086510479509,0.46210347426327075,0.19905969557347003,-0.6002168771587947,0.06980208499001891,-0.3853135968617602,0.11351734525124804,0.6621306745210467,1.586016816145352,-1.237815498826849,2.1330333746562666,-1.9520877995225019,-0.15178509503558332,0.5883172064845765,0.28099186773503265,-0.6226995198205938,-0.20812225035727522,-0.4930009346588328,-0.5893647569442115,0.8496020970210246,0.35701548596504734,-0.6929095952606542,0.8995998754332507,0.30729952087660933,0.8128621188389601,0.6296288419236122],\"type\":\"scatter3d\"}],                        {\"template\":{\"data\":{\"histogram2dcontour\":[{\"type\":\"histogram2dcontour\",\"colorbar\":{\"outlinewidth\":0,\"ticks\":\"\"},\"colorscale\":[[0.0,\"#0d0887\"],[0.1111111111111111,\"#46039f\"],[0.2222222222222222,\"#7201a8\"],[0.3333333333333333,\"#9c179e\"],[0.4444444444444444,\"#bd3786\"],[0.5555555555555556,\"#d8576b\"],[0.6666666666666666,\"#ed7953\"],[0.7777777777777778,\"#fb9f3a\"],[0.8888888888888888,\"#fdca26\"],[1.0,\"#f0f921\"]]}],\"choropleth\":[{\"type\":\"choropleth\",\"colorbar\":{\"outlinewidth\":0,\"ticks\":\"\"}}],\"histogram2d\":[{\"type\":\"histogram2d\",\"colorbar\":{\"outlinewidth\":0,\"ticks\":\"\"},\"colorscale\":[[0.0,\"#0d0887\"],[0.1111111111111111,\"#46039f\"],[0.2222222222222222,\"#7201a8\"],[0.3333333333333333,\"#9c179e\"],[0.4444444444444444,\"#bd3786\"],[0.5555555555555556,\"#d8576b\"],[0.6666666666666666,\"#ed7953\"],[0.7777777777777778,\"#fb9f3a\"],[0.8888888888888888,\"#fdca26\"],[1.0,\"#f0f921\"]]}],\"heatmap\":[{\"type\":\"heatmap\",\"colorbar\":{\"outlinewidth\":0,\"ticks\":\"\"},\"colorscale\":[[0.0,\"#0d0887\"],[0.1111111111111111,\"#46039f\"],[0.2222222222222222,\"#7201a8\"],[0.3333333333333333,\"#9c179e\"],[0.4444444444444444,\"#bd3786\"],[0.5555555555555556,\"#d8576b\"],[0.6666666666666666,\"#ed7953\"],[0.7777777777777778,\"#fb9f3a\"],[0.8888888888888888,\"#fdca26\"],[1.0,\"#f0f921\"]]}],\"heatmapgl\":[{\"type\":\"heatmapgl\",\"colorbar\":{\"outlinewidth\":0,\"ticks\":\"\"},\"colorscale\":[[0.0,\"#0d0887\"],[0.1111111111111111,\"#46039f\"],[0.2222222222222222,\"#7201a8\"],[0.3333333333333333,\"#9c179e\"],[0.4444444444444444,\"#bd3786\"],[0.5555555555555556,\"#d8576b\"],[0.6666666666666666,\"#ed7953\"],[0.7777777777777778,\"#fb9f3a\"],[0.8888888888888888,\"#fdca26\"],[1.0,\"#f0f921\"]]}],\"contourcarpet\":[{\"type\":\"contourcarpet\",\"colorbar\":{\"outlinewidth\":0,\"ticks\":\"\"}}],\"contour\":[{\"type\":\"contour\",\"colorbar\":{\"outlinewidth\":0,\"ticks\":\"\"},\"colorscale\":[[0.0,\"#0d0887\"],[0.1111111111111111,\"#46039f\"],[0.2222222222222222,\"#7201a8\"],[0.3333333333333333,\"#9c179e\"],[0.4444444444444444,\"#bd3786\"],[0.5555555555555556,\"#d8576b\"],[0.6666666666666666,\"#ed7953\"],[0.7777777777777778,\"#fb9f3a\"],[0.8888888888888888,\"#fdca26\"],[1.0,\"#f0f921\"]]}],\"surface\":[{\"type\":\"surface\",\"colorbar\":{\"outlinewidth\":0,\"ticks\":\"\"},\"colorscale\":[[0.0,\"#0d0887\"],[0.1111111111111111,\"#46039f\"],[0.2222222222222222,\"#7201a8\"],[0.3333333333333333,\"#9c179e\"],[0.4444444444444444,\"#bd3786\"],[0.5555555555555556,\"#d8576b\"],[0.6666666666666666,\"#ed7953\"],[0.7777777777777778,\"#fb9f3a\"],[0.8888888888888888,\"#fdca26\"],[1.0,\"#f0f921\"]]}],\"mesh3d\":[{\"type\":\"mesh3d\",\"colorbar\":{\"outlinewidth\":0,\"ticks\":\"\"}}],\"scatter\":[{\"fillpattern\":{\"fillmode\":\"overlay\",\"size\":10,\"solidity\":0.2},\"type\":\"scatter\"}],\"parcoords\":[{\"type\":\"parcoords\",\"line\":{\"colorbar\":{\"outlinewidth\":0,\"ticks\":\"\"}}}],\"scatterpolargl\":[{\"type\":\"scatterpolargl\",\"marker\":{\"colorbar\":{\"outlinewidth\":0,\"ticks\":\"\"}}}],\"bar\":[{\"error_x\":{\"color\":\"#2a3f5f\"},\"error_y\":{\"color\":\"#2a3f5f\"},\"marker\":{\"line\":{\"color\":\"#E5ECF6\",\"width\":0.5},\"pattern\":{\"fillmode\":\"overlay\",\"size\":10,\"solidity\":0.2}},\"type\":\"bar\"}],\"scattergeo\":[{\"type\":\"scattergeo\",\"marker\":{\"colorbar\":{\"outlinewidth\":0,\"ticks\":\"\"}}}],\"scatterpolar\":[{\"type\":\"scatterpolar\",\"marker\":{\"colorbar\":{\"outlinewidth\":0,\"ticks\":\"\"}}}],\"histogram\":[{\"marker\":{\"pattern\":{\"fillmode\":\"overlay\",\"size\":10,\"solidity\":0.2}},\"type\":\"histogram\"}],\"scattergl\":[{\"type\":\"scattergl\",\"marker\":{\"colorbar\":{\"outlinewidth\":0,\"ticks\":\"\"}}}],\"scatter3d\":[{\"type\":\"scatter3d\",\"line\":{\"colorbar\":{\"outlinewidth\":0,\"ticks\":\"\"}},\"marker\":{\"colorbar\":{\"outlinewidth\":0,\"ticks\":\"\"}}}],\"scattermapbox\":[{\"type\":\"scattermapbox\",\"marker\":{\"colorbar\":{\"outlinewidth\":0,\"ticks\":\"\"}}}],\"scatterternary\":[{\"type\":\"scatterternary\",\"marker\":{\"colorbar\":{\"outlinewidth\":0,\"ticks\":\"\"}}}],\"scattercarpet\":[{\"type\":\"scattercarpet\",\"marker\":{\"colorbar\":{\"outlinewidth\":0,\"ticks\":\"\"}}}],\"carpet\":[{\"aaxis\":{\"endlinecolor\":\"#2a3f5f\",\"gridcolor\":\"white\",\"linecolor\":\"white\",\"minorgridcolor\":\"white\",\"startlinecolor\":\"#2a3f5f\"},\"baxis\":{\"endlinecolor\":\"#2a3f5f\",\"gridcolor\":\"white\",\"linecolor\":\"white\",\"minorgridcolor\":\"white\",\"startlinecolor\":\"#2a3f5f\"},\"type\":\"carpet\"}],\"table\":[{\"cells\":{\"fill\":{\"color\":\"#EBF0F8\"},\"line\":{\"color\":\"white\"}},\"header\":{\"fill\":{\"color\":\"#C8D4E3\"},\"line\":{\"color\":\"white\"}},\"type\":\"table\"}],\"barpolar\":[{\"marker\":{\"line\":{\"color\":\"#E5ECF6\",\"width\":0.5},\"pattern\":{\"fillmode\":\"overlay\",\"size\":10,\"solidity\":0.2}},\"type\":\"barpolar\"}],\"pie\":[{\"automargin\":true,\"type\":\"pie\"}]},\"layout\":{\"autotypenumbers\":\"strict\",\"colorway\":[\"#636efa\",\"#EF553B\",\"#00cc96\",\"#ab63fa\",\"#FFA15A\",\"#19d3f3\",\"#FF6692\",\"#B6E880\",\"#FF97FF\",\"#FECB52\"],\"font\":{\"color\":\"#2a3f5f\"},\"hovermode\":\"closest\",\"hoverlabel\":{\"align\":\"left\"},\"paper_bgcolor\":\"white\",\"plot_bgcolor\":\"#E5ECF6\",\"polar\":{\"bgcolor\":\"#E5ECF6\",\"angularaxis\":{\"gridcolor\":\"white\",\"linecolor\":\"white\",\"ticks\":\"\"},\"radialaxis\":{\"gridcolor\":\"white\",\"linecolor\":\"white\",\"ticks\":\"\"}},\"ternary\":{\"bgcolor\":\"#E5ECF6\",\"aaxis\":{\"gridcolor\":\"white\",\"linecolor\":\"white\",\"ticks\":\"\"},\"baxis\":{\"gridcolor\":\"white\",\"linecolor\":\"white\",\"ticks\":\"\"},\"caxis\":{\"gridcolor\":\"white\",\"linecolor\":\"white\",\"ticks\":\"\"}},\"coloraxis\":{\"colorbar\":{\"outlinewidth\":0,\"ticks\":\"\"}},\"colorscale\":{\"sequential\":[[0.0,\"#0d0887\"],[0.1111111111111111,\"#46039f\"],[0.2222222222222222,\"#7201a8\"],[0.3333333333333333,\"#9c179e\"],[0.4444444444444444,\"#bd3786\"],[0.5555555555555556,\"#d8576b\"],[0.6666666666666666,\"#ed7953\"],[0.7777777777777778,\"#fb9f3a\"],[0.8888888888888888,\"#fdca26\"],[1.0,\"#f0f921\"]],\"sequentialminus\":[[0.0,\"#0d0887\"],[0.1111111111111111,\"#46039f\"],[0.2222222222222222,\"#7201a8\"],[0.3333333333333333,\"#9c179e\"],[0.4444444444444444,\"#bd3786\"],[0.5555555555555556,\"#d8576b\"],[0.6666666666666666,\"#ed7953\"],[0.7777777777777778,\"#fb9f3a\"],[0.8888888888888888,\"#fdca26\"],[1.0,\"#f0f921\"]],\"diverging\":[[0,\"#8e0152\"],[0.1,\"#c51b7d\"],[0.2,\"#de77ae\"],[0.3,\"#f1b6da\"],[0.4,\"#fde0ef\"],[0.5,\"#f7f7f7\"],[0.6,\"#e6f5d0\"],[0.7,\"#b8e186\"],[0.8,\"#7fbc41\"],[0.9,\"#4d9221\"],[1,\"#276419\"]]},\"xaxis\":{\"gridcolor\":\"white\",\"linecolor\":\"white\",\"ticks\":\"\",\"title\":{\"standoff\":15},\"zerolinecolor\":\"white\",\"automargin\":true,\"zerolinewidth\":2},\"yaxis\":{\"gridcolor\":\"white\",\"linecolor\":\"white\",\"ticks\":\"\",\"title\":{\"standoff\":15},\"zerolinecolor\":\"white\",\"automargin\":true,\"zerolinewidth\":2},\"scene\":{\"xaxis\":{\"backgroundcolor\":\"#E5ECF6\",\"gridcolor\":\"white\",\"linecolor\":\"white\",\"showbackground\":true,\"ticks\":\"\",\"zerolinecolor\":\"white\",\"gridwidth\":2},\"yaxis\":{\"backgroundcolor\":\"#E5ECF6\",\"gridcolor\":\"white\",\"linecolor\":\"white\",\"showbackground\":true,\"ticks\":\"\",\"zerolinecolor\":\"white\",\"gridwidth\":2},\"zaxis\":{\"backgroundcolor\":\"#E5ECF6\",\"gridcolor\":\"white\",\"linecolor\":\"white\",\"showbackground\":true,\"ticks\":\"\",\"zerolinecolor\":\"white\",\"gridwidth\":2}},\"shapedefaults\":{\"line\":{\"color\":\"#2a3f5f\"}},\"annotationdefaults\":{\"arrowcolor\":\"#2a3f5f\",\"arrowhead\":0,\"arrowwidth\":1},\"geo\":{\"bgcolor\":\"white\",\"landcolor\":\"#E5ECF6\",\"subunitcolor\":\"white\",\"showland\":true,\"showlakes\":true,\"lakecolor\":\"white\"},\"title\":{\"x\":0.05},\"mapbox\":{\"style\":\"light\"}}},\"title\":{\"text\":\"3D Scatter Plot 2\"},\"scene\":{\"xaxis\":{\"title\":{\"text\":\"X-axis\"}},\"yaxis\":{\"title\":{\"text\":\"Y-axis\"}},\"zaxis\":{\"title\":{\"text\":\"Z-axis\"}}}},                        {\"responsive\": true}                    ).then(function(){\n",
              "                            \n",
              "var gd = document.getElementById('139077e3-c424-4619-af0d-169ef13c3429');\n",
              "var x = new MutationObserver(function (mutations, observer) {{\n",
              "        var display = window.getComputedStyle(gd).display;\n",
              "        if (!display || display === 'none') {{\n",
              "            console.log([gd, 'removed!']);\n",
              "            Plotly.purge(gd);\n",
              "            observer.disconnect();\n",
              "        }}\n",
              "}});\n",
              "\n",
              "// Listen for the removal of the full notebook cells\n",
              "var notebookContainer = gd.closest('#notebook-container');\n",
              "if (notebookContainer) {{\n",
              "    x.observe(notebookContainer, {childList: true});\n",
              "}}\n",
              "\n",
              "// Listen for the clearing of the current output cell\n",
              "var outputEl = gd.closest('.output');\n",
              "if (outputEl) {{\n",
              "    x.observe(outputEl, {childList: true});\n",
              "}}\n",
              "\n",
              "                        })                };                            </script>        </div>\n",
              "</body>\n",
              "</html>"
            ]
          },
          "metadata": {}
        }
      ]
    }
  ]
}